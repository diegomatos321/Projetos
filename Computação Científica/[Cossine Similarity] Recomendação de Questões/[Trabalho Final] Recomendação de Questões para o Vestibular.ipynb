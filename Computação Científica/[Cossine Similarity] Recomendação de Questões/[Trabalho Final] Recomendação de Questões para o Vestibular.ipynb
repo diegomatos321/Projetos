{
 "cells": [
  {
   "cell_type": "markdown",
   "id": "7f9ce373",
   "metadata": {},
   "source": [
    "# Recomendação de Questões para o Enem\n",
    "[Projeto Final] Computação Científica e Análise de Dados - 2023.01\n",
    "\n",
    "Aluno: Diego Vasconcelos Schardosim de Matos\n",
    "\n",
    "DRE: 120098723"
   ]
  },
  {
   "cell_type": "markdown",
   "id": "662ac09b",
   "metadata": {},
   "source": [
    "## Introdução\n",
    "\n",
    "Todo ano temos milhares de alunos do Ensino Médio prestando o Exame Nacional do Ensino Médio (Enem) para tentarem uma vaga às instituições de Ensino Superior. Esta é uma prova que avalia o conhecimento e as habilidades que os estudantes adquiriram ao longo do Ensino Médio, são 180 questões objetivos de quatro áreas do conhecimento e uma redação. \n",
    "\n",
    "- Linguagens, Códigos e suas Tecnologias (Língua Portuguesa, Língua Estrangeira, Literatura e Artes);\n",
    "- Matemática e suas Tecnologias;\n",
    "- Ciências Humanas (História, Geografia, Sociologia e Filosofia);\n",
    "- Ciências da Natureza (Biologia, Física e Química).\n",
    "\n",
    "Fazendo uma análise rápida dos dados encontrado no documento *Press Kit do Enem 2022*, observamos que mais da metade dos inscritos possuem declaração de carência aprovada ou inscrição gratuita. Indicadores de que são pessoas que muito provavelmente não tiveram muitas oportunidade/qualidade de estudo.\n",
    "\n",
    "Considerando a facilidade de hoje em dia ter acesso a um celular, em ordem de tentar mitigar um pouco este problema proponho neste documento um sistema de recomendação de questões para auxiliar os alunos durante seus estudos."
   ]
  },
  {
   "cell_type": "markdown",
   "id": "307ac5e8",
   "metadata": {},
   "source": [
    "## Diferentes tipos de Sistema de Recomendação\n",
    "\n",
    "Sistemas de Recomendação (SR) são conjuntos de algoritmos capazes analisar e identificar padrões de comportamento dos usuários de determinada plataforma e oferecer uma experiência de consumo mais personalizada para os usuários. Dentre as modalidades de filtragem mais comuns, temos:\n",
    "\n",
    " - **Colaborativa**: Nesse tipo de mecanismo, os algoritmos usam aprendizado de máquina para prever seus gostos com base em usuários que têm comportamento similar ao seu.\n",
    " - **Baseada em conteúdo**: O sistema se baseia em atribuições de um conteúdo, sem depender necessariamente de uma interação de outro usuário. \n",
    " - **Híbrida**: Se vale tanto de algoritmos baseados na interação usuário-usuário quanto nos que avaliam apenas o conteúdo, com o objetivo de formar um sistema de recomendação mais robusto.\n",
    "\n",
    "Neste projeto estarei interessado em recomendar questões similares a uma já respondida pelo usuário, logo será um **SIstema de Recomendação Baseado em Conteúdo**."
   ]
  },
  {
   "cell_type": "markdown",
   "id": "8e294136",
   "metadata": {},
   "source": [
    "## Como alcançar o objetivo\n",
    "\n",
    "Para este projeto estarei usando um dataset do meu proprio site (em desenvolvimento) [Prepara Vestibular](https://www.preparavestibular.com.br), os arquivos csv da questão contém todos os metadados que vou usar para a questão como: materia, prova, ano, enunciado. No arquivo csv dos assuntos encontramos todos os assuntos por questão.\n",
    "\n",
    "A partir desses dados montaremos uma Matriz Documento-Termo (*Document-Term Matrix*) onde cada linha i da matriz é uma questão e as colunas j são os termos/palavras das questões, e o element *ij* será a frequência em que o termo/palavra *j* aparece na questão *i*. Como no exemplo abaixo"
   ]
  },
  {
   "cell_type": "code",
   "execution_count": 98,
   "id": "57653056",
   "metadata": {
    "scrolled": false
   },
   "outputs": [
    {
     "data": {
      "text/html": [
       "<div>\n",
       "<style scoped>\n",
       "    .dataframe tbody tr th:only-of-type {\n",
       "        vertical-align: middle;\n",
       "    }\n",
       "\n",
       "    .dataframe tbody tr th {\n",
       "        vertical-align: top;\n",
       "    }\n",
       "\n",
       "    .dataframe thead th {\n",
       "        text-align: right;\n",
       "    }\n",
       "</style>\n",
       "<table border=\"1\" class=\"dataframe\">\n",
       "  <thead>\n",
       "    <tr style=\"text-align: right;\">\n",
       "      <th></th>\n",
       "      <th>10</th>\n",
       "      <th>1902</th>\n",
       "      <th>20</th>\n",
       "      <th>2000</th>\n",
       "      <th>30</th>\n",
       "      <th>33</th>\n",
       "      <th>40</th>\n",
       "      <th>45</th>\n",
       "      <th>46</th>\n",
       "      <th>50</th>\n",
       "      <th>...</th>\n",
       "      <th>teóricos</th>\n",
       "      <th>total</th>\n",
       "      <th>três</th>\n",
       "      <th>um</th>\n",
       "      <th>uma</th>\n",
       "      <th>unidos</th>\n",
       "      <th>universitário</th>\n",
       "      <th>utilizadas</th>\n",
       "      <th>vendidos</th>\n",
       "      <th>único</th>\n",
       "    </tr>\n",
       "  </thead>\n",
       "  <tbody>\n",
       "    <tr>\n",
       "      <th>Matematica 1</th>\n",
       "      <td>0</td>\n",
       "      <td>0</td>\n",
       "      <td>1</td>\n",
       "      <td>0</td>\n",
       "      <td>0</td>\n",
       "      <td>1</td>\n",
       "      <td>0</td>\n",
       "      <td>1</td>\n",
       "      <td>0</td>\n",
       "      <td>0</td>\n",
       "      <td>...</td>\n",
       "      <td>0</td>\n",
       "      <td>4</td>\n",
       "      <td>1</td>\n",
       "      <td>4</td>\n",
       "      <td>2</td>\n",
       "      <td>0</td>\n",
       "      <td>0</td>\n",
       "      <td>0</td>\n",
       "      <td>2</td>\n",
       "      <td>1</td>\n",
       "    </tr>\n",
       "    <tr>\n",
       "      <th>Matematica 2</th>\n",
       "      <td>1</td>\n",
       "      <td>0</td>\n",
       "      <td>1</td>\n",
       "      <td>0</td>\n",
       "      <td>1</td>\n",
       "      <td>0</td>\n",
       "      <td>1</td>\n",
       "      <td>0</td>\n",
       "      <td>1</td>\n",
       "      <td>1</td>\n",
       "      <td>...</td>\n",
       "      <td>0</td>\n",
       "      <td>0</td>\n",
       "      <td>1</td>\n",
       "      <td>2</td>\n",
       "      <td>1</td>\n",
       "      <td>0</td>\n",
       "      <td>1</td>\n",
       "      <td>0</td>\n",
       "      <td>0</td>\n",
       "      <td>0</td>\n",
       "    </tr>\n",
       "    <tr>\n",
       "      <th>Historia 1</th>\n",
       "      <td>0</td>\n",
       "      <td>1</td>\n",
       "      <td>0</td>\n",
       "      <td>1</td>\n",
       "      <td>0</td>\n",
       "      <td>0</td>\n",
       "      <td>0</td>\n",
       "      <td>0</td>\n",
       "      <td>0</td>\n",
       "      <td>0</td>\n",
       "      <td>...</td>\n",
       "      <td>1</td>\n",
       "      <td>0</td>\n",
       "      <td>0</td>\n",
       "      <td>5</td>\n",
       "      <td>2</td>\n",
       "      <td>1</td>\n",
       "      <td>0</td>\n",
       "      <td>1</td>\n",
       "      <td>0</td>\n",
       "      <td>0</td>\n",
       "    </tr>\n",
       "  </tbody>\n",
       "</table>\n",
       "<p>3 rows × 149 columns</p>\n",
       "</div>"
      ],
      "text/plain": [
       "              10  1902  20  2000  30  33  40  45  46  50  ...  teóricos  \\\n",
       "Matematica 1   0     0   1     0   0   1   0   1   0   0  ...         0   \n",
       "Matematica 2   1     0   1     0   1   0   1   0   1   1  ...         0   \n",
       "Historia 1     0     1   0     1   0   0   0   0   0   0  ...         1   \n",
       "\n",
       "              total  três  um  uma  unidos  universitário  utilizadas  \\\n",
       "Matematica 1      4     1   4    2       0              0           0   \n",
       "Matematica 2      0     1   2    1       0              1           0   \n",
       "Historia 1        0     0   5    2       1              0           1   \n",
       "\n",
       "              vendidos  único  \n",
       "Matematica 1         2      1  \n",
       "Matematica 2         0      0  \n",
       "Historia 1           0      0  \n",
       "\n",
       "[3 rows x 149 columns]"
      ]
     },
     "execution_count": 98,
     "metadata": {},
     "output_type": "execute_result"
    }
   ],
   "source": [
    "from sklearn.feature_extraction.text import CountVectorizer\n",
    "import pandas as pd\n",
    "\n",
    "# Duas questões de matemática e uma de história\n",
    "exemplos = [\n",
    "    'Durante uma festa de colégio, um grupo de alunos organizou uma rifa. Oitenta alunos faltaram à festa e não participaram da rifa. Entre os que compareceram, alguns compraram três bilhetes, 45 compraram 2 bilhetes, e muitos compraram apenas um. O total de alunos que comprou um único bilhete era 20% do número total de bilhetes vendidos, e o total de bilhetes vendidos excedeu em 33 o número total de alunos do colégio.Quantos alunos compraram somente um bilhete?',\n",
    "    'Os alunos da disciplina de estatística, em um curso universitário, realizam quatro avaliações por semestre com os pesos de 20%, 10%, 30% e 40%, respectivamente. No final do semestre, precisam obter uma média nas quatro avaliações de, no mínimo, 60 pontos para serem aprovados. Um estudante dessa disciplina obteve os seguintes pontos nas três primeiras avaliações: 46, 60 e 50, respectivamente.O mínimo de pontos que esse estudante precisa obter na quarta avaliação para ser aprovado é',\n",
    "    'Um dos teóricos da democracia moderna, Hans Kelsen, considera elemento essencial da democracia real (não da democracia ideal, que não existe em lugar algum) o método da seleção dos líderes, ou seja, a eleição. Exemplar, neste sentido, é a afirmação de um juiz da Corte Suprema dos Estados Unidos, por ocasião de uma eleição de 1902: “A cabine eleitoral é o templo das instituições americanas, onde cada um de nós é um sacerdote, ao qual é confiada a guarda da arca da aliança e cada um oficia do seu próprio altar”.BOBBIO, N. Teoria geral da política. Rio de Janeiro: Elsevier, 2000 (adaptado). As metáforas utilizadas no texto referem-se a uma concepção de democracia fundamentada no(a)'\n",
    "]\n",
    "\n",
    "vectorizer = CountVectorizer()\n",
    "count_terms = vectorizer.fit_transform(exemplos)\n",
    "\n",
    "documentTermMatrix = pd.DataFrame(count_terms.toarray(), index=[\"Matematica 1\", \"Matematica 2\", \"Historia 1\"], columns=vectorizer.get_feature_names_out())\n",
    "documentTermMatrix.head()"
   ]
  },
  {
   "cell_type": "markdown",
   "id": "af94b5a6",
   "metadata": {},
   "source": [
    "Podemos visualizar as palavras mais usadas pela sua matriz transposta Termo x Documento"
   ]
  },
  {
   "cell_type": "code",
   "execution_count": 99,
   "id": "ae1d07f1",
   "metadata": {},
   "outputs": [
    {
     "name": "stdout",
     "output_type": "stream",
     "text": [
      "           Matematica 1  Matematica 2  Historia 1  total_count\n",
      "de                    6             4           6           16\n",
      "um                    4             2           5           11\n",
      "da                    1             1           8           10\n",
      "alunos                5             1           0            6\n",
      "uma                   2             1           2            5\n",
      "total                 4             0           0            4\n",
      "os                    1             3           0            4\n",
      "compraram             4             0           0            4\n",
      "que                   2             1           1            4\n",
      "no                    0             2           2            4\n"
     ]
    }
   ],
   "source": [
    "termDocumentMatrix = documentTermMatrix.T\n",
    "termDocumentMatrix['total_count'] = termDocumentMatrix.sum(axis=1)\n",
    "termDocumentMatrix = termDocumentMatrix.sort_values(by ='total_count',ascending=False)\n",
    "print(termDocumentMatrix[:10].to_string())"
   ]
  },
  {
   "cell_type": "code",
   "execution_count": 100,
   "id": "d213c5ef",
   "metadata": {},
   "outputs": [
    {
     "data": {
      "text/plain": [
       "<Axes: >"
      ]
     },
     "execution_count": 100,
     "metadata": {},
     "output_type": "execute_result"
    },
    {
     "data": {
      "image/png": "[encoded data removed]",
      "text/plain": [
       "<Figure size 640x480 with 1 Axes>"
      ]
     },
     "metadata": {},
     "output_type": "display_data"
    }
   ],
   "source": [
    "termDocumentMatrix[:10]['total_count'].plot.bar()"
   ]
  },
  {
   "cell_type": "markdown",
   "id": "e94809fa",
   "metadata": {},
   "source": [
    "Como sabemos, uma Matriz não deixa de ser uma 'coleção' de vetores, olhando para nossa Matriz Termo-Documento anterior, cada linha pode ser interpretada como um vetor diferente. Para um exemplo visual irei escolher os dois termos mais frequentes"
   ]
  },
  {
   "cell_type": "code",
   "execution_count": 101,
   "id": "c2470c0f",
   "metadata": {},
   "outputs": [
    {
     "data": {
      "text/html": [
       "<div>\n",
       "<style scoped>\n",
       "    .dataframe tbody tr th:only-of-type {\n",
       "        vertical-align: middle;\n",
       "    }\n",
       "\n",
       "    .dataframe tbody tr th {\n",
       "        vertical-align: top;\n",
       "    }\n",
       "\n",
       "    .dataframe thead th {\n",
       "        text-align: right;\n",
       "    }\n",
       "</style>\n",
       "<table border=\"1\" class=\"dataframe\">\n",
       "  <thead>\n",
       "    <tr style=\"text-align: right;\">\n",
       "      <th></th>\n",
       "      <th>de</th>\n",
       "      <th>um</th>\n",
       "    </tr>\n",
       "  </thead>\n",
       "  <tbody>\n",
       "    <tr>\n",
       "      <th>Matematica 1</th>\n",
       "      <td>6</td>\n",
       "      <td>4</td>\n",
       "    </tr>\n",
       "    <tr>\n",
       "      <th>Matematica 2</th>\n",
       "      <td>4</td>\n",
       "      <td>2</td>\n",
       "    </tr>\n",
       "    <tr>\n",
       "      <th>Historia 1</th>\n",
       "      <td>6</td>\n",
       "      <td>5</td>\n",
       "    </tr>\n",
       "  </tbody>\n",
       "</table>\n",
       "</div>"
      ],
      "text/plain": [
       "              de  um\n",
       "Matematica 1   6   4\n",
       "Matematica 2   4   2\n",
       "Historia 1     6   5"
      ]
     },
     "execution_count": 101,
     "metadata": {},
     "output_type": "execute_result"
    }
   ],
   "source": [
    "documentTermMatrix[[\"de\", \"um\"]]"
   ]
  },
  {
   "cell_type": "code",
   "execution_count": 102,
   "id": "a64c0775",
   "metadata": {},
   "outputs": [
    {
     "data": {
      "text/plain": [
       "<Axes: xlabel='de', ylabel='um'>"
      ]
     },
     "execution_count": 102,
     "metadata": {},
     "output_type": "execute_result"
    },
    {
     "data": {
      "image/png": "[encoded data removed]",
      "text/plain": [
       "<Figure size 640x480 with 1 Axes>"
      ]
     },
     "metadata": {},
     "output_type": "display_data"
    }
   ],
   "source": [
    "documentTermMatrix.plot.scatter(x='de', y='um')"
   ]
  },
  {
   "cell_type": "markdown",
   "id": "8d75e986",
   "metadata": {},
   "source": [
    "### Similaridade - Ângulo entre documentos\n",
    "\n",
    "Há várias formas de se decidir se dois vetores são próximos como, por exemplo, a distancia euclediana. Nesse projeto para decidir se dois vetores são parecidos medindo o ângulo cosseno entre eles, este é um método bem popular.\n",
    "\n",
    "$$ similarity = cos(\\theta)=\\frac{\\mathbf{A}.\\mathbf{B}}{\\|\\mathbf{A}\\|\\|\\mathbf{B}\\|}=\\frac{\\Sigma_{i=1}^nA_iB_i}{\\sqrt{\\Sigma_{i=1}^nA_i^2}\\sqrt{\\Sigma_{i=1}^nB_i^2}} $$\n",
    "\n",
    "Dessa forma montaremos uma matriz $similaridade_{\\text{Documento x Documento}}$ onde o elemento ij quantificará a similaridade entre o documento i para o j"
   ]
  },
  {
   "cell_type": "code",
   "execution_count": 103,
   "id": "13b80957",
   "metadata": {},
   "outputs": [
    {
     "name": "stdout",
     "output_type": "stream",
     "text": [
      "[[1.         0.32532068 0.35646452]\n",
      " [0.32532068 1.         0.29909765]\n",
      " [0.35646452 0.29909765 1.        ]]\n"
     ]
    }
   ],
   "source": [
    "from sklearn.metrics.pairwise import cosine_similarity\n",
    "similarity = cosine_similarity(documentTermMatrix)\n",
    "print(similarity) # Matriz similaridade Document x Documento"
   ]
  },
  {
   "cell_type": "markdown",
   "id": "c3fa6168",
   "metadata": {},
   "source": [
    "**Exemplo Prático**: Qual questão recomendar dado que o aluno respondeu a Questão 2 (de Matemática)"
   ]
  },
  {
   "cell_type": "code",
   "execution_count": 104,
   "id": "f3e6b104",
   "metadata": {},
   "outputs": [
    {
     "data": {
      "text/plain": [
       "'Os alunos da disciplina de estatística, em um curso universitário, realizam quatro avaliações por semestre com os pesos de 20%, 10%, 30% e 40%, respectivamente. No final do semestre, precisam obter uma média nas quatro avaliações de, no mínimo, 60 pontos para serem aprovados. Um estudante dessa disciplina obteve os seguintes pontos nas três primeiras avaliações: 46, 60 e 50, respectivamente.O mínimo de pontos que esse estudante precisa obter na quarta avaliação para ser aprovado é'"
      ]
     },
     "execution_count": 104,
     "metadata": {},
     "output_type": "execute_result"
    }
   ],
   "source": [
    "exemplos[1] # Lembrando que essa é a questão 2 de matemática"
   ]
  },
  {
   "cell_type": "code",
   "execution_count": 105,
   "id": "cb9e43d0",
   "metadata": {},
   "outputs": [
    {
     "data": {
      "text/plain": [
       "array([0.32532068, 1.        , 0.29909765])"
      ]
     },
     "execution_count": 105,
     "metadata": {},
     "output_type": "execute_result"
    }
   ],
   "source": [
    "similarity[1] # Estas são as similaridades da questão 2 entre as outras questões"
   ]
  },
  {
   "cell_type": "code",
   "execution_count": 106,
   "id": "49913c9e",
   "metadata": {
    "scrolled": true
   },
   "outputs": [
    {
     "data": {
      "text/plain": [
       "[0.9999999999999999, 0.3253206802532286, 0.2990976526313236]"
      ]
     },
     "execution_count": 106,
     "metadata": {},
     "output_type": "execute_result"
    }
   ],
   "source": [
    "# Ordenados, quanto maior a similaridade mais proximo é. Porém durante a ordenação o índice j é perdido\n",
    "sorted(similarity[1], reverse=True)"
   ]
  },
  {
   "cell_type": "code",
   "execution_count": 107,
   "id": "b45290d9",
   "metadata": {},
   "outputs": [
    {
     "data": {
      "text/plain": [
       "[(0, 0.3253206802532286), (2, 0.2990976526313236)]"
      ]
     },
     "execution_count": 107,
     "metadata": {},
     "output_type": "execute_result"
    }
   ],
   "source": [
    "# O primeiro item vai ser sempre igual pois é a própria questão, então vou ignora-lo.\n",
    "# Usando enumerate recuperamos o índice da questão durante a ordenação\n",
    "sorted(enumerate(similarity[1]), reverse=True, key=lambda x:x[1])[1:3]"
   ]
  },
  {
   "cell_type": "markdown",
   "id": "363b6478",
   "metadata": {},
   "source": [
    "Dessa forma a questão mais similar que devemos recomendar ao aluno é a de índice 0"
   ]
  },
  {
   "cell_type": "code",
   "execution_count": 108,
   "id": "a4640740",
   "metadata": {},
   "outputs": [
    {
     "data": {
      "text/plain": [
       "'Durante uma festa de colégio, um grupo de alunos organizou uma rifa. Oitenta alunos faltaram à festa e não participaram da rifa. Entre os que compareceram, alguns compraram três bilhetes, 45 compraram 2 bilhetes, e muitos compraram apenas um. O total de alunos que comprou um único bilhete era 20% do número total de bilhetes vendidos, e o total de bilhetes vendidos excedeu em 33 o número total de alunos do colégio.Quantos alunos compraram somente um bilhete?'"
      ]
     },
     "execution_count": 108,
     "metadata": {},
     "output_type": "execute_result"
    }
   ],
   "source": [
    "exemplos[0]"
   ]
  },
  {
   "cell_type": "markdown",
   "id": "7866a172",
   "metadata": {},
   "source": [
    "O que condiz com o esperado, pois questão de matemática deve se relacionar com uma outra questão de matemática"
   ]
  },
  {
   "cell_type": "markdown",
   "id": "88769f68",
   "metadata": {},
   "source": [
    "## Resultados"
   ]
  },
  {
   "cell_type": "markdown",
   "id": "14ada116",
   "metadata": {},
   "source": [
    "### Forma simples"
   ]
  },
  {
   "cell_type": "markdown",
   "id": "b77a3931",
   "metadata": {},
   "source": [
    "Entendido todos esses conceitos iremos agora, de fato, realizar o caminho das pedras para implementar uma função 'recomendar' questões, antes disso devemos pre processar nossos\n",
    "\n",
    "    1. Processamento dos dados: Nesta etapa montaremos uma Matriz Documento-Termo com os enunciados da questão\n",
    "    2. Calcular Similaridade\n",
    "    3. Construir método de recomendar questões"
   ]
  },
  {
   "cell_type": "code",
   "execution_count": 109,
   "id": "e98c4a80",
   "metadata": {},
   "outputs": [],
   "source": [
    "questoes = pd.read_csv('questoes.csv')"
   ]
  },
  {
   "cell_type": "code",
   "execution_count": 110,
   "id": "697f09d7",
   "metadata": {
    "scrolled": false
   },
   "outputs": [
    {
     "data": {
      "text/html": [
       "<div>\n",
       "<style scoped>\n",
       "    .dataframe tbody tr th:only-of-type {\n",
       "        vertical-align: middle;\n",
       "    }\n",
       "\n",
       "    .dataframe tbody tr th {\n",
       "        vertical-align: top;\n",
       "    }\n",
       "\n",
       "    .dataframe thead th {\n",
       "        text-align: right;\n",
       "    }\n",
       "</style>\n",
       "<table border=\"1\" class=\"dataframe\">\n",
       "  <thead>\n",
       "    <tr style=\"text-align: right;\">\n",
       "      <th></th>\n",
       "      <th>id</th>\n",
       "      <th>materia</th>\n",
       "      <th>prova</th>\n",
       "      <th>ano</th>\n",
       "      <th>enunciado</th>\n",
       "      <th>visibilidade_id</th>\n",
       "    </tr>\n",
       "  </thead>\n",
       "  <tbody>\n",
       "    <tr>\n",
       "      <th>0</th>\n",
       "      <td>1</td>\n",
       "      <td>Matemática</td>\n",
       "      <td>Enem</td>\n",
       "      <td>2022</td>\n",
       "      <td>&lt;p&gt;Uma cozinheira produz docinhos especiais po...</td>\n",
       "      <td>3</td>\n",
       "    </tr>\n",
       "    <tr>\n",
       "      <th>1</th>\n",
       "      <td>2</td>\n",
       "      <td>Matemática</td>\n",
       "      <td>Enem</td>\n",
       "      <td>2022</td>\n",
       "      <td>&lt;p&gt;Uma pessoa precisa contratar um operário pa...</td>\n",
       "      <td>3</td>\n",
       "    </tr>\n",
       "    <tr>\n",
       "      <th>2</th>\n",
       "      <td>3</td>\n",
       "      <td>Matemática</td>\n",
       "      <td>Enem</td>\n",
       "      <td>2022</td>\n",
       "      <td>&lt;p&gt;O governo de um estado pretende realizar um...</td>\n",
       "      <td>3</td>\n",
       "    </tr>\n",
       "    <tr>\n",
       "      <th>3</th>\n",
       "      <td>4</td>\n",
       "      <td>Matemática</td>\n",
       "      <td>Enem</td>\n",
       "      <td>2022</td>\n",
       "      <td>&lt;p&gt;Ao escutar à notícia de que um filme recém-...</td>\n",
       "      <td>3</td>\n",
       "    </tr>\n",
       "    <tr>\n",
       "      <th>4</th>\n",
       "      <td>5</td>\n",
       "      <td>Matemática</td>\n",
       "      <td>Enem</td>\n",
       "      <td>2022</td>\n",
       "      <td>&lt;p&gt;Em uma loja, o preço promocional de uma gel...</td>\n",
       "      <td>3</td>\n",
       "    </tr>\n",
       "  </tbody>\n",
       "</table>\n",
       "</div>"
      ],
      "text/plain": [
       "   id     materia prova   ano  \\\n",
       "0   1  Matemática  Enem  2022   \n",
       "1   2  Matemática  Enem  2022   \n",
       "2   3  Matemática  Enem  2022   \n",
       "3   4  Matemática  Enem  2022   \n",
       "4   5  Matemática  Enem  2022   \n",
       "\n",
       "                                           enunciado  visibilidade_id  \n",
       "0  <p>Uma cozinheira produz docinhos especiais po...                3  \n",
       "1  <p>Uma pessoa precisa contratar um operário pa...                3  \n",
       "2  <p>O governo de um estado pretende realizar um...                3  \n",
       "3  <p>Ao escutar à notícia de que um filme recém-...                3  \n",
       "4  <p>Em uma loja, o preço promocional de uma gel...                3  "
      ]
     },
     "execution_count": 110,
     "metadata": {},
     "output_type": "execute_result"
    }
   ],
   "source": [
    "questoes.head()"
   ]
  },
  {
   "cell_type": "code",
   "execution_count": 111,
   "id": "177ae4f9",
   "metadata": {},
   "outputs": [
    {
     "data": {
      "text/html": [
       "<div>\n",
       "<style scoped>\n",
       "    .dataframe tbody tr th:only-of-type {\n",
       "        vertical-align: middle;\n",
       "    }\n",
       "\n",
       "    .dataframe tbody tr th {\n",
       "        vertical-align: top;\n",
       "    }\n",
       "\n",
       "    .dataframe thead th {\n",
       "        text-align: right;\n",
       "    }\n",
       "</style>\n",
       "<table border=\"1\" class=\"dataframe\">\n",
       "  <thead>\n",
       "    <tr style=\"text-align: right;\">\n",
       "      <th></th>\n",
       "      <th>id</th>\n",
       "      <th>materia</th>\n",
       "      <th>prova</th>\n",
       "      <th>ano</th>\n",
       "      <th>enunciado</th>\n",
       "    </tr>\n",
       "  </thead>\n",
       "  <tbody>\n",
       "    <tr>\n",
       "      <th>0</th>\n",
       "      <td>1</td>\n",
       "      <td>Matemática</td>\n",
       "      <td>Enem</td>\n",
       "      <td>2022</td>\n",
       "      <td>&lt;p&gt;Uma cozinheira produz docinhos especiais po...</td>\n",
       "    </tr>\n",
       "    <tr>\n",
       "      <th>1</th>\n",
       "      <td>2</td>\n",
       "      <td>Matemática</td>\n",
       "      <td>Enem</td>\n",
       "      <td>2022</td>\n",
       "      <td>&lt;p&gt;Uma pessoa precisa contratar um operário pa...</td>\n",
       "    </tr>\n",
       "    <tr>\n",
       "      <th>2</th>\n",
       "      <td>3</td>\n",
       "      <td>Matemática</td>\n",
       "      <td>Enem</td>\n",
       "      <td>2022</td>\n",
       "      <td>&lt;p&gt;O governo de um estado pretende realizar um...</td>\n",
       "    </tr>\n",
       "    <tr>\n",
       "      <th>3</th>\n",
       "      <td>4</td>\n",
       "      <td>Matemática</td>\n",
       "      <td>Enem</td>\n",
       "      <td>2022</td>\n",
       "      <td>&lt;p&gt;Ao escutar à notícia de que um filme recém-...</td>\n",
       "    </tr>\n",
       "    <tr>\n",
       "      <th>4</th>\n",
       "      <td>5</td>\n",
       "      <td>Matemática</td>\n",
       "      <td>Enem</td>\n",
       "      <td>2022</td>\n",
       "      <td>&lt;p&gt;Em uma loja, o preço promocional de uma gel...</td>\n",
       "    </tr>\n",
       "    <tr>\n",
       "      <th>...</th>\n",
       "      <td>...</td>\n",
       "      <td>...</td>\n",
       "      <td>...</td>\n",
       "      <td>...</td>\n",
       "      <td>...</td>\n",
       "    </tr>\n",
       "    <tr>\n",
       "      <th>905</th>\n",
       "      <td>2220</td>\n",
       "      <td>Inglês</td>\n",
       "      <td>Enem</td>\n",
       "      <td>2018</td>\n",
       "      <td>&lt;p style=\"text-align: center;\"&gt;&lt;span style=\"fo...</td>\n",
       "    </tr>\n",
       "    <tr>\n",
       "      <th>906</th>\n",
       "      <td>2221</td>\n",
       "      <td>Inglês</td>\n",
       "      <td>Enem</td>\n",
       "      <td>2018</td>\n",
       "      <td>&lt;p&gt;&lt;strong&gt;&lt;span style=\"font-size: 14pt;\"&gt;TEXT...</td>\n",
       "    </tr>\n",
       "    <tr>\n",
       "      <th>907</th>\n",
       "      <td>2222</td>\n",
       "      <td>Inglês</td>\n",
       "      <td>Enem</td>\n",
       "      <td>2018</td>\n",
       "      <td>&lt;p style=\"padding-left: 40px;\"&gt;Don't write in ...</td>\n",
       "    </tr>\n",
       "    <tr>\n",
       "      <th>908</th>\n",
       "      <td>2223</td>\n",
       "      <td>Inglês</td>\n",
       "      <td>Enem</td>\n",
       "      <td>2018</td>\n",
       "      <td>&lt;p&gt;&lt;img style=\"display: block; margin-left: au...</td>\n",
       "    </tr>\n",
       "    <tr>\n",
       "      <th>909</th>\n",
       "      <td>2224</td>\n",
       "      <td>Inglês</td>\n",
       "      <td>Enem</td>\n",
       "      <td>2018</td>\n",
       "      <td>&lt;p style=\"text-align: center;\"&gt;&lt;strong&gt;&lt;span s...</td>\n",
       "    </tr>\n",
       "  </tbody>\n",
       "</table>\n",
       "<p>910 rows × 5 columns</p>\n",
       "</div>"
      ],
      "text/plain": [
       "       id     materia prova   ano  \\\n",
       "0       1  Matemática  Enem  2022   \n",
       "1       2  Matemática  Enem  2022   \n",
       "2       3  Matemática  Enem  2022   \n",
       "3       4  Matemática  Enem  2022   \n",
       "4       5  Matemática  Enem  2022   \n",
       "..    ...         ...   ...   ...   \n",
       "905  2220      Inglês  Enem  2018   \n",
       "906  2221      Inglês  Enem  2018   \n",
       "907  2222      Inglês  Enem  2018   \n",
       "908  2223      Inglês  Enem  2018   \n",
       "909  2224      Inglês  Enem  2018   \n",
       "\n",
       "                                             enunciado  \n",
       "0    <p>Uma cozinheira produz docinhos especiais po...  \n",
       "1    <p>Uma pessoa precisa contratar um operário pa...  \n",
       "2    <p>O governo de um estado pretende realizar um...  \n",
       "3    <p>Ao escutar à notícia de que um filme recém-...  \n",
       "4    <p>Em uma loja, o preço promocional de uma gel...  \n",
       "..                                                 ...  \n",
       "905  <p style=\"text-align: center;\"><span style=\"fo...  \n",
       "906  <p><strong><span style=\"font-size: 14pt;\">TEXT...  \n",
       "907  <p style=\"padding-left: 40px;\">Don't write in ...  \n",
       "908  <p><img style=\"display: block; margin-left: au...  \n",
       "909  <p style=\"text-align: center;\"><strong><span s...  \n",
       "\n",
       "[910 rows x 5 columns]"
      ]
     },
     "execution_count": 111,
     "metadata": {},
     "output_type": "execute_result"
    }
   ],
   "source": [
    "questoes.drop('visibilidade_id', axis=1)"
   ]
  },
  {
   "cell_type": "code",
   "execution_count": 112,
   "id": "e3cf7db5",
   "metadata": {},
   "outputs": [
    {
     "name": "stdout",
     "output_type": "stream",
     "text": [
      "[[0 0 0 ... 0 0 0]\n",
      " [5 0 1 ... 0 0 0]\n",
      " [0 0 0 ... 0 0 0]\n",
      " ...\n",
      " [0 0 0 ... 0 0 0]\n",
      " [0 0 0 ... 0 0 0]\n",
      " [0 1 0 ... 0 0 0]]\n"
     ]
    }
   ],
   "source": [
    "vectorizer = CountVectorizer(lowercase=True)\n",
    "\n",
    "tags_count = vectorizer.fit_transform(questoes['enunciado'])\n",
    "print(tags_count.toarray())"
   ]
  },
  {
   "cell_type": "code",
   "execution_count": 113,
   "id": "c1517fc7",
   "metadata": {},
   "outputs": [
    {
     "name": "stdout",
     "output_type": "stream",
     "text": [
      "[[1.         0.01998891 0.29120203 ... 0.03946458 0.0855106  0.00972556]\n",
      " [0.01998891 1.         0.03246364 ... 0.1352592  0.22652401 0.22169968]\n",
      " [0.29120203 0.03246364 1.         ... 0.12060651 0.2382482  0.07388037]\n",
      " ...\n",
      " [0.03946458 0.1352592  0.12060651 ... 1.         0.22831651 0.24363727]\n",
      " [0.0855106  0.22652401 0.2382482  ... 0.22831651 1.         0.45178123]\n",
      " [0.00972556 0.22169968 0.07388037 ... 0.24363727 0.45178123 1.        ]]\n"
     ]
    }
   ],
   "source": [
    "similarity = cosine_similarity(tags_count)\n",
    "print(similarity)"
   ]
  },
  {
   "cell_type": "code",
   "execution_count": 114,
   "id": "e744e617",
   "metadata": {},
   "outputs": [
    {
     "data": {
      "text/plain": [
       "11"
      ]
     },
     "execution_count": 114,
     "metadata": {},
     "output_type": "execute_result"
    }
   ],
   "source": [
    "# Usaremos a sintaxe abaixo para pesquisar por uma questão.\n",
    "# Como a matriz de similaridade não trabalha com o id da questão\n",
    "# mas com o índice, teremos que resgatar o índice dado um id de questao\n",
    "\n",
    "questoes[questoes['id'] == 12].index[0]"
   ]
  },
  {
   "cell_type": "code",
   "execution_count": 115,
   "id": "fc0c3fe2",
   "metadata": {},
   "outputs": [
    {
     "data": {
      "text/html": [
       "<div>\n",
       "<style scoped>\n",
       "    .dataframe tbody tr th:only-of-type {\n",
       "        vertical-align: middle;\n",
       "    }\n",
       "\n",
       "    .dataframe tbody tr th {\n",
       "        vertical-align: top;\n",
       "    }\n",
       "\n",
       "    .dataframe thead th {\n",
       "        text-align: right;\n",
       "    }\n",
       "</style>\n",
       "<table border=\"1\" class=\"dataframe\">\n",
       "  <thead>\n",
       "    <tr style=\"text-align: right;\">\n",
       "      <th></th>\n",
       "      <th>id</th>\n",
       "      <th>materia</th>\n",
       "      <th>prova</th>\n",
       "      <th>ano</th>\n",
       "      <th>enunciado</th>\n",
       "      <th>visibilidade_id</th>\n",
       "    </tr>\n",
       "  </thead>\n",
       "  <tbody>\n",
       "    <tr>\n",
       "      <th>11</th>\n",
       "      <td>12</td>\n",
       "      <td>Matemática</td>\n",
       "      <td>Enem</td>\n",
       "      <td>2022</td>\n",
       "      <td>&lt;p&gt;Uma pessoa precisa se deslocar de automóvel...</td>\n",
       "      <td>3</td>\n",
       "    </tr>\n",
       "  </tbody>\n",
       "</table>\n",
       "</div>"
      ],
      "text/plain": [
       "    id     materia prova   ano  \\\n",
       "11  12  Matemática  Enem  2022   \n",
       "\n",
       "                                            enunciado  visibilidade_id  \n",
       "11  <p>Uma pessoa precisa se deslocar de automóvel...                3  "
      ]
     },
     "execution_count": 115,
     "metadata": {},
     "output_type": "execute_result"
    }
   ],
   "source": [
    "questoes.loc[questoes['id'] == 12]"
   ]
  },
  {
   "cell_type": "code",
   "execution_count": 116,
   "id": "d14e2f8d",
   "metadata": {},
   "outputs": [
    {
     "data": {
      "text/plain": [
       "'<p>Uma pessoa precisa se deslocar de automóvel do ponto\\xa0P\\xa0para o ponto\\xa0Q, indicados na figura, na qual as linhas verticais e horizontais simbolizam ruas.\\xa0 \\xa0</p>\\n<p><img style=\"display: block; margin-left: auto; margin-right: auto;\" src=\"/storage/attachments/questoes/12/nY3qn77luopBTDHAHDhIeuQp95gJQyRT317XlQ72.png\"></p>\\n<p>Por causa do sentido de tráfego nessas ruas, o caminho poligonal destacado é a possibilidade mais curta de efetuar esse deslocamento. Para descrevê-lo, deve-se especificar qual o sentido a ser tomado em cada cruzamento de ruas, em relação à direção de deslocamento do automóvel, que se movimentará continuamente. Para isso, empregam-se as letras E, F e D para indicar “vire à esquerda”, “siga em frente” e “vire à direita”, respectivamente.</p>\\n<p>A sequência de letras que descreve o caminho poligonal destacado é</p>'"
      ]
     },
     "execution_count": 116,
     "metadata": {},
     "output_type": "execute_result"
    }
   ],
   "source": [
    "questoes.loc[questoes['id'] == 12, \"enunciado\"].item()"
   ]
  },
  {
   "cell_type": "code",
   "execution_count": 117,
   "id": "4bc22b42",
   "metadata": {},
   "outputs": [],
   "source": [
    "def recomendar_simples(questao_id):\n",
    "    questao_index = questoes[questoes['id'] == questao_id].index[0]\n",
    "    sugestoes = sorted(enumerate(similarity[questao_index]), reverse=True, key=lambda x:x[1])[1:6]\n",
    "    result = []\n",
    "    \n",
    "    for sugestao in sugestoes:\n",
    "        sugestao_questao = questoes.iloc[sugestao[0]].id\n",
    "        result.append(sugestao_questao)\n",
    "    \n",
    "    return result"
   ]
  },
  {
   "cell_type": "code",
   "execution_count": 118,
   "id": "d19c604f",
   "metadata": {},
   "outputs": [
    {
     "data": {
      "text/plain": [
       "[2053, 774, 894, 1323, 3]"
      ]
     },
     "execution_count": 118,
     "metadata": {},
     "output_type": "execute_result"
    }
   ],
   "source": [
    "recomendar_simples(12)"
   ]
  },
  {
   "cell_type": "code",
   "execution_count": 119,
   "id": "35f05cce",
   "metadata": {
    "scrolled": true
   },
   "outputs": [
    {
     "data": {
      "text/html": [
       "<div>\n",
       "<style scoped>\n",
       "    .dataframe tbody tr th:only-of-type {\n",
       "        vertical-align: middle;\n",
       "    }\n",
       "\n",
       "    .dataframe tbody tr th {\n",
       "        vertical-align: top;\n",
       "    }\n",
       "\n",
       "    .dataframe thead th {\n",
       "        text-align: right;\n",
       "    }\n",
       "</style>\n",
       "<table border=\"1\" class=\"dataframe\">\n",
       "  <thead>\n",
       "    <tr style=\"text-align: right;\">\n",
       "      <th></th>\n",
       "      <th>id</th>\n",
       "      <th>materia</th>\n",
       "      <th>prova</th>\n",
       "      <th>ano</th>\n",
       "      <th>enunciado</th>\n",
       "      <th>visibilidade_id</th>\n",
       "    </tr>\n",
       "  </thead>\n",
       "  <tbody>\n",
       "    <tr>\n",
       "      <th>391</th>\n",
       "      <td>1311</td>\n",
       "      <td>Matemática</td>\n",
       "      <td>Enem</td>\n",
       "      <td>2020</td>\n",
       "      <td>&lt;p style=\"text-align: justify;\"&gt;Três amigos, A...</td>\n",
       "      <td>3</td>\n",
       "    </tr>\n",
       "  </tbody>\n",
       "</table>\n",
       "</div>"
      ],
      "text/plain": [
       "       id     materia prova   ano  \\\n",
       "391  1311  Matemática  Enem  2020   \n",
       "\n",
       "                                             enunciado  visibilidade_id  \n",
       "391  <p style=\"text-align: justify;\">Três amigos, A...                3  "
      ]
     },
     "execution_count": 119,
     "metadata": {},
     "output_type": "execute_result"
    }
   ],
   "source": [
    "questoes.loc[questoes['id'] == 1311]"
   ]
  },
  {
   "cell_type": "code",
   "execution_count": 120,
   "id": "c6648319",
   "metadata": {},
   "outputs": [
    {
     "data": {
      "text/plain": [
       "'<p style=\"text-align: justify;\">Três amigos, André, Bernardo e Carlos, moram em um condomínio fechado de uma cidade. O quadriculado representa a localização das ruas paralelas e perpendiculares, delimitando quadras de mesmo tamanho nesse condomínio, em que nos pontos A, B e C estão localizadas as casas de André, Bernardo e Carlos, respectivamente.</p>\\n<p><img style=\"display: block; margin-left: auto; margin-right: auto;\" src=\"/storage/attachments/questoes/1311/pP8f4xcJhjxiIYMQ5wqtaNg3QRczWA8AiJr1mJep.png\"></p>\\n<p style=\"text-align: justify;\">André deseja deslocar-se da sua casa até a casa de Bernardo, sem passar pela casa de Carlos, seguindo ao longo das ruas do condomínio, fazendo sempre deslocamentos para a direita ( → ) ou para cima ( ↑ ), segundo o esquema da figura.</p>\\n<p style=\"text-align: justify;\">O número de diferentes caminhos que André poderá utilizar para realizar o deslocamento nas condições propostas é</p>'"
      ]
     },
     "execution_count": 120,
     "metadata": {},
     "output_type": "execute_result"
    }
   ],
   "source": [
    "questoes.loc[questoes['id'] == 1311, \"enunciado\"].item()"
   ]
  },
  {
   "cell_type": "markdown",
   "id": "fe043762",
   "metadata": {},
   "source": [
    "Perceba que este método simples nos recomendou uma questão bem parecida com a entrada. Mas seria então esta a melhor abordagem? Bem, podemos melhorar nossa Matriz Documento-Termo, pois, se reparamos bem não estamos usando todos nossos metadados, deixando assim a recomendação mais precisa."
   ]
  },
  {
   "cell_type": "markdown",
   "id": "6e788458",
   "metadata": {},
   "source": [
    "### Refinando o processo\n",
    "\n",
    "Apesar do nome, a Matriz Documento-Termo não está obrigatoriamente restrita apenas a termos do documento, na prática as frequência da palavras atuam como pesos indicando quanto aquela característica é importante para a questão. Com isso em mente, adicionaremos todos os metadados a matriz Documento-Termo: prova, ano e assuntos. E assim iremos analisar se a recomendação será mais coerente."
   ]
  },
  {
   "cell_type": "code",
   "execution_count": 121,
   "id": "a44e8767",
   "metadata": {},
   "outputs": [],
   "source": [
    "assuntos = pd.read_csv('assuntos.csv')"
   ]
  },
  {
   "cell_type": "code",
   "execution_count": 122,
   "id": "c3bf8250",
   "metadata": {},
   "outputs": [
    {
     "data": {
      "text/html": [
       "<div>\n",
       "<style scoped>\n",
       "    .dataframe tbody tr th:only-of-type {\n",
       "        vertical-align: middle;\n",
       "    }\n",
       "\n",
       "    .dataframe tbody tr th {\n",
       "        vertical-align: top;\n",
       "    }\n",
       "\n",
       "    .dataframe thead th {\n",
       "        text-align: right;\n",
       "    }\n",
       "</style>\n",
       "<table border=\"1\" class=\"dataframe\">\n",
       "  <thead>\n",
       "    <tr style=\"text-align: right;\">\n",
       "      <th></th>\n",
       "      <th>id</th>\n",
       "      <th>questao_id</th>\n",
       "      <th>assunto</th>\n",
       "    </tr>\n",
       "  </thead>\n",
       "  <tbody>\n",
       "    <tr>\n",
       "      <th>0</th>\n",
       "      <td>1</td>\n",
       "      <td>1</td>\n",
       "      <td>Aritmética e Problemas</td>\n",
       "    </tr>\n",
       "    <tr>\n",
       "      <th>1</th>\n",
       "      <td>2</td>\n",
       "      <td>1</td>\n",
       "      <td>Regra de Três</td>\n",
       "    </tr>\n",
       "    <tr>\n",
       "      <th>2</th>\n",
       "      <td>3</td>\n",
       "      <td>2</td>\n",
       "      <td>Aritmética e Problemas</td>\n",
       "    </tr>\n",
       "    <tr>\n",
       "      <th>3</th>\n",
       "      <td>4</td>\n",
       "      <td>2</td>\n",
       "      <td>Sistemas de Numeração e Operações Fundamentais</td>\n",
       "    </tr>\n",
       "    <tr>\n",
       "      <th>4</th>\n",
       "      <td>5</td>\n",
       "      <td>3</td>\n",
       "      <td>Análise de Tabelas e Gráficos</td>\n",
       "    </tr>\n",
       "  </tbody>\n",
       "</table>\n",
       "</div>"
      ],
      "text/plain": [
       "   id  questao_id                                         assunto\n",
       "0   1           1                          Aritmética e Problemas\n",
       "1   2           1                                   Regra de Três\n",
       "2   3           2                          Aritmética e Problemas\n",
       "3   4           2  Sistemas de Numeração e Operações Fundamentais\n",
       "4   5           3                   Análise de Tabelas e Gráficos"
      ]
     },
     "execution_count": 122,
     "metadata": {},
     "output_type": "execute_result"
    }
   ],
   "source": [
    "assuntos.head()"
   ]
  },
  {
   "cell_type": "code",
   "execution_count": 123,
   "id": "134ccb93",
   "metadata": {},
   "outputs": [],
   "source": [
    "def add_assuntos_to_questao(questao):\n",
    "    questao['assuntos'] = assuntos.loc[assuntos['questao_id'] == questao.id].assunto.values\n",
    "    \n",
    "    return questao"
   ]
  },
  {
   "cell_type": "code",
   "execution_count": 124,
   "id": "8f832a35",
   "metadata": {
    "scrolled": false
   },
   "outputs": [
    {
     "data": {
      "text/html": [
       "<div>\n",
       "<style scoped>\n",
       "    .dataframe tbody tr th:only-of-type {\n",
       "        vertical-align: middle;\n",
       "    }\n",
       "\n",
       "    .dataframe tbody tr th {\n",
       "        vertical-align: top;\n",
       "    }\n",
       "\n",
       "    .dataframe thead th {\n",
       "        text-align: right;\n",
       "    }\n",
       "</style>\n",
       "<table border=\"1\" class=\"dataframe\">\n",
       "  <thead>\n",
       "    <tr style=\"text-align: right;\">\n",
       "      <th></th>\n",
       "      <th>id</th>\n",
       "      <th>materia</th>\n",
       "      <th>prova</th>\n",
       "      <th>ano</th>\n",
       "      <th>enunciado</th>\n",
       "      <th>visibilidade_id</th>\n",
       "      <th>assuntos</th>\n",
       "    </tr>\n",
       "  </thead>\n",
       "  <tbody>\n",
       "    <tr>\n",
       "      <th>0</th>\n",
       "      <td>1</td>\n",
       "      <td>Matemática</td>\n",
       "      <td>Enem</td>\n",
       "      <td>2022</td>\n",
       "      <td>&lt;p&gt;Uma cozinheira produz docinhos especiais po...</td>\n",
       "      <td>3</td>\n",
       "      <td>[Aritmética e Problemas, Regra de Três]</td>\n",
       "    </tr>\n",
       "    <tr>\n",
       "      <th>1</th>\n",
       "      <td>2</td>\n",
       "      <td>Matemática</td>\n",
       "      <td>Enem</td>\n",
       "      <td>2022</td>\n",
       "      <td>&lt;p&gt;Uma pessoa precisa contratar um operário pa...</td>\n",
       "      <td>3</td>\n",
       "      <td>[Aritmética e Problemas, Sistemas de Numeração...</td>\n",
       "    </tr>\n",
       "    <tr>\n",
       "      <th>2</th>\n",
       "      <td>3</td>\n",
       "      <td>Matemática</td>\n",
       "      <td>Enem</td>\n",
       "      <td>2022</td>\n",
       "      <td>&lt;p&gt;O governo de um estado pretende realizar um...</td>\n",
       "      <td>3</td>\n",
       "      <td>[Análise de Tabelas e Gráficos]</td>\n",
       "    </tr>\n",
       "    <tr>\n",
       "      <th>3</th>\n",
       "      <td>4</td>\n",
       "      <td>Matemática</td>\n",
       "      <td>Enem</td>\n",
       "      <td>2022</td>\n",
       "      <td>&lt;p&gt;Ao escutar à notícia de que um filme recém-...</td>\n",
       "      <td>3</td>\n",
       "      <td>[Aritmética e Problemas, Sistemas de Numeração...</td>\n",
       "    </tr>\n",
       "    <tr>\n",
       "      <th>4</th>\n",
       "      <td>5</td>\n",
       "      <td>Matemática</td>\n",
       "      <td>Enem</td>\n",
       "      <td>2022</td>\n",
       "      <td>&lt;p&gt;Em uma loja, o preço promocional de uma gel...</td>\n",
       "      <td>3</td>\n",
       "      <td>[Matemática Financeira]</td>\n",
       "    </tr>\n",
       "  </tbody>\n",
       "</table>\n",
       "</div>"
      ],
      "text/plain": [
       "   id     materia prova   ano  \\\n",
       "0   1  Matemática  Enem  2022   \n",
       "1   2  Matemática  Enem  2022   \n",
       "2   3  Matemática  Enem  2022   \n",
       "3   4  Matemática  Enem  2022   \n",
       "4   5  Matemática  Enem  2022   \n",
       "\n",
       "                                           enunciado  visibilidade_id  \\\n",
       "0  <p>Uma cozinheira produz docinhos especiais po...                3   \n",
       "1  <p>Uma pessoa precisa contratar um operário pa...                3   \n",
       "2  <p>O governo de um estado pretende realizar um...                3   \n",
       "3  <p>Ao escutar à notícia de que um filme recém-...                3   \n",
       "4  <p>Em uma loja, o preço promocional de uma gel...                3   \n",
       "\n",
       "                                            assuntos  \n",
       "0            [Aritmética e Problemas, Regra de Três]  \n",
       "1  [Aritmética e Problemas, Sistemas de Numeração...  \n",
       "2                    [Análise de Tabelas e Gráficos]  \n",
       "3  [Aritmética e Problemas, Sistemas de Numeração...  \n",
       "4                            [Matemática Financeira]  "
      ]
     },
     "execution_count": 124,
     "metadata": {},
     "output_type": "execute_result"
    }
   ],
   "source": [
    "# Criaremos uma nova coluna chamada 'assuntos' no documento\n",
    "# das questões que será uma lista com os assuntos da questão\n",
    "\n",
    "questoes_with_assuntos = questoes.apply(add_assuntos_to_questao, axis=1)\n",
    "questoes_with_assuntos.head()"
   ]
  },
  {
   "cell_type": "code",
   "execution_count": 125,
   "id": "ee28e478",
   "metadata": {},
   "outputs": [
    {
     "data": {
      "text/html": [
       "<div>\n",
       "<style scoped>\n",
       "    .dataframe tbody tr th:only-of-type {\n",
       "        vertical-align: middle;\n",
       "    }\n",
       "\n",
       "    .dataframe tbody tr th {\n",
       "        vertical-align: top;\n",
       "    }\n",
       "\n",
       "    .dataframe thead th {\n",
       "        text-align: right;\n",
       "    }\n",
       "</style>\n",
       "<table border=\"1\" class=\"dataframe\">\n",
       "  <thead>\n",
       "    <tr style=\"text-align: right;\">\n",
       "      <th></th>\n",
       "      <th>id</th>\n",
       "      <th>materia</th>\n",
       "      <th>prova</th>\n",
       "      <th>ano</th>\n",
       "      <th>enunciado</th>\n",
       "      <th>visibilidade_id</th>\n",
       "      <th>assuntos</th>\n",
       "    </tr>\n",
       "  </thead>\n",
       "  <tbody>\n",
       "    <tr>\n",
       "      <th>0</th>\n",
       "      <td>1</td>\n",
       "      <td>Matemática</td>\n",
       "      <td>Enem</td>\n",
       "      <td>2022</td>\n",
       "      <td>&lt;p&gt;Uma cozinheira produz docinhos especiais po...</td>\n",
       "      <td>3</td>\n",
       "      <td>[AritméticaeProblemas, RegradeTrês]</td>\n",
       "    </tr>\n",
       "    <tr>\n",
       "      <th>1</th>\n",
       "      <td>2</td>\n",
       "      <td>Matemática</td>\n",
       "      <td>Enem</td>\n",
       "      <td>2022</td>\n",
       "      <td>&lt;p&gt;Uma pessoa precisa contratar um operário pa...</td>\n",
       "      <td>3</td>\n",
       "      <td>[AritméticaeProblemas, SistemasdeNumeraçãoeOpe...</td>\n",
       "    </tr>\n",
       "    <tr>\n",
       "      <th>2</th>\n",
       "      <td>3</td>\n",
       "      <td>Matemática</td>\n",
       "      <td>Enem</td>\n",
       "      <td>2022</td>\n",
       "      <td>&lt;p&gt;O governo de um estado pretende realizar um...</td>\n",
       "      <td>3</td>\n",
       "      <td>[AnálisedeTabelaseGráficos]</td>\n",
       "    </tr>\n",
       "    <tr>\n",
       "      <th>3</th>\n",
       "      <td>4</td>\n",
       "      <td>Matemática</td>\n",
       "      <td>Enem</td>\n",
       "      <td>2022</td>\n",
       "      <td>&lt;p&gt;Ao escutar à notícia de que um filme recém-...</td>\n",
       "      <td>3</td>\n",
       "      <td>[AritméticaeProblemas, SistemasdeNumeraçãoeOpe...</td>\n",
       "    </tr>\n",
       "    <tr>\n",
       "      <th>4</th>\n",
       "      <td>5</td>\n",
       "      <td>Matemática</td>\n",
       "      <td>Enem</td>\n",
       "      <td>2022</td>\n",
       "      <td>&lt;p&gt;Em uma loja, o preço promocional de uma gel...</td>\n",
       "      <td>3</td>\n",
       "      <td>[MatemáticaFinanceira]</td>\n",
       "    </tr>\n",
       "  </tbody>\n",
       "</table>\n",
       "</div>"
      ],
      "text/plain": [
       "   id     materia prova   ano  \\\n",
       "0   1  Matemática  Enem  2022   \n",
       "1   2  Matemática  Enem  2022   \n",
       "2   3  Matemática  Enem  2022   \n",
       "3   4  Matemática  Enem  2022   \n",
       "4   5  Matemática  Enem  2022   \n",
       "\n",
       "                                           enunciado  visibilidade_id  \\\n",
       "0  <p>Uma cozinheira produz docinhos especiais po...                3   \n",
       "1  <p>Uma pessoa precisa contratar um operário pa...                3   \n",
       "2  <p>O governo de um estado pretende realizar um...                3   \n",
       "3  <p>Ao escutar à notícia de que um filme recém-...                3   \n",
       "4  <p>Em uma loja, o preço promocional de uma gel...                3   \n",
       "\n",
       "                                            assuntos  \n",
       "0                [AritméticaeProblemas, RegradeTrês]  \n",
       "1  [AritméticaeProblemas, SistemasdeNumeraçãoeOpe...  \n",
       "2                        [AnálisedeTabelaseGráficos]  \n",
       "3  [AritméticaeProblemas, SistemasdeNumeraçãoeOpe...  \n",
       "4                             [MatemáticaFinanceira]  "
      ]
     },
     "execution_count": 125,
     "metadata": {},
     "output_type": "execute_result"
    }
   ],
   "source": [
    "# Para evitar que o método conte, por exemplo: 'Aritmética', 'e', 'Problemas'\n",
    "# como coisas separadas, estarei concatenando as strings formando uma nova.\n",
    "\n",
    "questoes_with_assuntos['assuntos'] = questoes_with_assuntos['assuntos'].apply(lambda x:[i.replace(\" \", \"\") for i in x])\n",
    "questoes_with_assuntos.head()"
   ]
  },
  {
   "cell_type": "code",
   "execution_count": 126,
   "id": "cfe260a6",
   "metadata": {
    "scrolled": false
   },
   "outputs": [
    {
     "data": {
      "text/html": [
       "<div>\n",
       "<style scoped>\n",
       "    .dataframe tbody tr th:only-of-type {\n",
       "        vertical-align: middle;\n",
       "    }\n",
       "\n",
       "    .dataframe tbody tr th {\n",
       "        vertical-align: top;\n",
       "    }\n",
       "\n",
       "    .dataframe thead th {\n",
       "        text-align: right;\n",
       "    }\n",
       "</style>\n",
       "<table border=\"1\" class=\"dataframe\">\n",
       "  <thead>\n",
       "    <tr style=\"text-align: right;\">\n",
       "      <th></th>\n",
       "      <th>id</th>\n",
       "      <th>materia</th>\n",
       "      <th>prova</th>\n",
       "      <th>ano</th>\n",
       "      <th>enunciado</th>\n",
       "      <th>visibilidade_id</th>\n",
       "      <th>assuntos</th>\n",
       "    </tr>\n",
       "  </thead>\n",
       "  <tbody>\n",
       "    <tr>\n",
       "      <th>0</th>\n",
       "      <td>1</td>\n",
       "      <td>Matemática</td>\n",
       "      <td>Enem</td>\n",
       "      <td>2022</td>\n",
       "      <td>&lt;p&gt;Uma cozinheira produz docinhos especiais po...</td>\n",
       "      <td>3</td>\n",
       "      <td>AritméticaeProblemas RegradeTrês</td>\n",
       "    </tr>\n",
       "    <tr>\n",
       "      <th>1</th>\n",
       "      <td>2</td>\n",
       "      <td>Matemática</td>\n",
       "      <td>Enem</td>\n",
       "      <td>2022</td>\n",
       "      <td>&lt;p&gt;Uma pessoa precisa contratar um operário pa...</td>\n",
       "      <td>3</td>\n",
       "      <td>AritméticaeProblemas SistemasdeNumeraçãoeOpera...</td>\n",
       "    </tr>\n",
       "    <tr>\n",
       "      <th>2</th>\n",
       "      <td>3</td>\n",
       "      <td>Matemática</td>\n",
       "      <td>Enem</td>\n",
       "      <td>2022</td>\n",
       "      <td>&lt;p&gt;O governo de um estado pretende realizar um...</td>\n",
       "      <td>3</td>\n",
       "      <td>AnálisedeTabelaseGráficos</td>\n",
       "    </tr>\n",
       "    <tr>\n",
       "      <th>3</th>\n",
       "      <td>4</td>\n",
       "      <td>Matemática</td>\n",
       "      <td>Enem</td>\n",
       "      <td>2022</td>\n",
       "      <td>&lt;p&gt;Ao escutar à notícia de que um filme recém-...</td>\n",
       "      <td>3</td>\n",
       "      <td>AritméticaeProblemas SistemasdeNumeraçãoeOpera...</td>\n",
       "    </tr>\n",
       "    <tr>\n",
       "      <th>4</th>\n",
       "      <td>5</td>\n",
       "      <td>Matemática</td>\n",
       "      <td>Enem</td>\n",
       "      <td>2022</td>\n",
       "      <td>&lt;p&gt;Em uma loja, o preço promocional de uma gel...</td>\n",
       "      <td>3</td>\n",
       "      <td>MatemáticaFinanceira</td>\n",
       "    </tr>\n",
       "  </tbody>\n",
       "</table>\n",
       "</div>"
      ],
      "text/plain": [
       "   id     materia prova   ano  \\\n",
       "0   1  Matemática  Enem  2022   \n",
       "1   2  Matemática  Enem  2022   \n",
       "2   3  Matemática  Enem  2022   \n",
       "3   4  Matemática  Enem  2022   \n",
       "4   5  Matemática  Enem  2022   \n",
       "\n",
       "                                           enunciado  visibilidade_id  \\\n",
       "0  <p>Uma cozinheira produz docinhos especiais po...                3   \n",
       "1  <p>Uma pessoa precisa contratar um operário pa...                3   \n",
       "2  <p>O governo de um estado pretende realizar um...                3   \n",
       "3  <p>Ao escutar à notícia de que um filme recém-...                3   \n",
       "4  <p>Em uma loja, o preço promocional de uma gel...                3   \n",
       "\n",
       "                                            assuntos  \n",
       "0                   AritméticaeProblemas RegradeTrês  \n",
       "1  AritméticaeProblemas SistemasdeNumeraçãoeOpera...  \n",
       "2                          AnálisedeTabelaseGráficos  \n",
       "3  AritméticaeProblemas SistemasdeNumeraçãoeOpera...  \n",
       "4                               MatemáticaFinanceira  "
      ]
     },
     "execution_count": 126,
     "metadata": {},
     "output_type": "execute_result"
    }
   ],
   "source": [
    "# Como nosso método trabalha com texto, vou converter\n",
    "# essa lista em uma string, separada por espaço\n",
    "\n",
    "questoes_with_assuntos['assuntos'] = questoes_with_assuntos['assuntos'].apply(lambda x:\" \".join(x))\n",
    "questoes_with_assuntos.head()"
   ]
  },
  {
   "cell_type": "markdown",
   "id": "b8384604",
   "metadata": {},
   "source": [
    "### Limpando nossa Matriz\n",
    "\n",
    "Além de considerar todas essas características, é importante ressaltar que quando trabalhando com texto, existem muitas palavras semanticamente similares que acabam sendo contadas de uma maneira não desejável. Usando a técnica de stemming iremos analisar cada palavra individualmente e reduzi-la à sua raiz ou, como é chamada na técnica, o seu **stem**.\n",
    "\n",
    "Além disso também temos as chamadas **stop_words**, que é a técnica para remover ruídos no texto como os conectivos \"que\", \"o\", \"a\", \"de\", entre outros.\n",
    "\n",
    "1. Remover caracteres especiais\n",
    "2. Remover os números\n",
    "3. Remover ruídos do texto, as chamadas stop_words\n",
    "4. Reduzir as palavras para sua raiz por Stemming"
   ]
  },
  {
   "cell_type": "code",
   "execution_count": 127,
   "id": "666617aa",
   "metadata": {},
   "outputs": [
    {
     "data": {
      "text/html": [
       "<div>\n",
       "<style scoped>\n",
       "    .dataframe tbody tr th:only-of-type {\n",
       "        vertical-align: middle;\n",
       "    }\n",
       "\n",
       "    .dataframe tbody tr th {\n",
       "        vertical-align: top;\n",
       "    }\n",
       "\n",
       "    .dataframe thead th {\n",
       "        text-align: right;\n",
       "    }\n",
       "</style>\n",
       "<table border=\"1\" class=\"dataframe\">\n",
       "  <thead>\n",
       "    <tr style=\"text-align: right;\">\n",
       "      <th></th>\n",
       "      <th>id</th>\n",
       "      <th>materia</th>\n",
       "      <th>prova</th>\n",
       "      <th>ano</th>\n",
       "      <th>enunciado</th>\n",
       "      <th>visibilidade_id</th>\n",
       "      <th>assuntos</th>\n",
       "    </tr>\n",
       "  </thead>\n",
       "  <tbody>\n",
       "    <tr>\n",
       "      <th>0</th>\n",
       "      <td>1</td>\n",
       "      <td>Matemática</td>\n",
       "      <td>Enem</td>\n",
       "      <td>2022</td>\n",
       "      <td>Uma cozinheira produz docinhos especiais por e...</td>\n",
       "      <td>3</td>\n",
       "      <td>AritméticaeProblemas RegradeTrês</td>\n",
       "    </tr>\n",
       "    <tr>\n",
       "      <th>1</th>\n",
       "      <td>2</td>\n",
       "      <td>Matemática</td>\n",
       "      <td>Enem</td>\n",
       "      <td>2022</td>\n",
       "      <td>Uma pessoa precisa contratar um operário para ...</td>\n",
       "      <td>3</td>\n",
       "      <td>AritméticaeProblemas SistemasdeNumeraçãoeOpera...</td>\n",
       "    </tr>\n",
       "    <tr>\n",
       "      <th>2</th>\n",
       "      <td>3</td>\n",
       "      <td>Matemática</td>\n",
       "      <td>Enem</td>\n",
       "      <td>2022</td>\n",
       "      <td>O governo de um estado pretende realizar uma o...</td>\n",
       "      <td>3</td>\n",
       "      <td>AnálisedeTabelaseGráficos</td>\n",
       "    </tr>\n",
       "    <tr>\n",
       "      <th>3</th>\n",
       "      <td>4</td>\n",
       "      <td>Matemática</td>\n",
       "      <td>Enem</td>\n",
       "      <td>2022</td>\n",
       "      <td>Ao escutar à notícia de que um filme recém-lan...</td>\n",
       "      <td>3</td>\n",
       "      <td>AritméticaeProblemas SistemasdeNumeraçãoeOpera...</td>\n",
       "    </tr>\n",
       "    <tr>\n",
       "      <th>4</th>\n",
       "      <td>5</td>\n",
       "      <td>Matemática</td>\n",
       "      <td>Enem</td>\n",
       "      <td>2022</td>\n",
       "      <td>Em uma loja, o preço promocional de uma gelade...</td>\n",
       "      <td>3</td>\n",
       "      <td>MatemáticaFinanceira</td>\n",
       "    </tr>\n",
       "  </tbody>\n",
       "</table>\n",
       "</div>"
      ],
      "text/plain": [
       "   id     materia prova   ano  \\\n",
       "0   1  Matemática  Enem  2022   \n",
       "1   2  Matemática  Enem  2022   \n",
       "2   3  Matemática  Enem  2022   \n",
       "3   4  Matemática  Enem  2022   \n",
       "4   5  Matemática  Enem  2022   \n",
       "\n",
       "                                           enunciado  visibilidade_id  \\\n",
       "0  Uma cozinheira produz docinhos especiais por e...                3   \n",
       "1  Uma pessoa precisa contratar um operário para ...                3   \n",
       "2  O governo de um estado pretende realizar uma o...                3   \n",
       "3  Ao escutar à notícia de que um filme recém-lan...                3   \n",
       "4  Em uma loja, o preço promocional de uma gelade...                3   \n",
       "\n",
       "                                            assuntos  \n",
       "0                   AritméticaeProblemas RegradeTrês  \n",
       "1  AritméticaeProblemas SistemasdeNumeraçãoeOpera...  \n",
       "2                          AnálisedeTabelaseGráficos  \n",
       "3  AritméticaeProblemas SistemasdeNumeraçãoeOpera...  \n",
       "4                               MatemáticaFinanceira  "
      ]
     },
     "execution_count": 127,
     "metadata": {},
     "output_type": "execute_result"
    }
   ],
   "source": [
    "# Removendo tags html\n",
    "\n",
    "import re\n",
    "\n",
    "regex = re.compile('<[^<]+?>')\n",
    "\n",
    "def remove_html(text):\n",
    "    return re.sub(regex, '', text)\n",
    "\n",
    "questoes_cleaned = questoes_with_assuntos.copy()\n",
    "questoes_cleaned['enunciado'] = questoes_cleaned['enunciado'].apply(remove_html)\n",
    "questoes_cleaned.head()"
   ]
  },
  {
   "cell_type": "code",
   "execution_count": 128,
   "id": "cd21dd15",
   "metadata": {},
   "outputs": [
    {
     "data": {
      "text/html": [
       "<div>\n",
       "<style scoped>\n",
       "    .dataframe tbody tr th:only-of-type {\n",
       "        vertical-align: middle;\n",
       "    }\n",
       "\n",
       "    .dataframe tbody tr th {\n",
       "        vertical-align: top;\n",
       "    }\n",
       "\n",
       "    .dataframe thead th {\n",
       "        text-align: right;\n",
       "    }\n",
       "</style>\n",
       "<table border=\"1\" class=\"dataframe\">\n",
       "  <thead>\n",
       "    <tr style=\"text-align: right;\">\n",
       "      <th></th>\n",
       "      <th>id</th>\n",
       "      <th>materia</th>\n",
       "      <th>prova</th>\n",
       "      <th>ano</th>\n",
       "      <th>enunciado</th>\n",
       "      <th>visibilidade_id</th>\n",
       "      <th>assuntos</th>\n",
       "    </tr>\n",
       "  </thead>\n",
       "  <tbody>\n",
       "    <tr>\n",
       "      <th>0</th>\n",
       "      <td>1</td>\n",
       "      <td>Matemática</td>\n",
       "      <td>Enem</td>\n",
       "      <td>2022</td>\n",
       "      <td>Uma cozinheira produz docinhos especiais por e...</td>\n",
       "      <td>3</td>\n",
       "      <td>AritméticaeProblemas RegradeTrês</td>\n",
       "    </tr>\n",
       "    <tr>\n",
       "      <th>1</th>\n",
       "      <td>2</td>\n",
       "      <td>Matemática</td>\n",
       "      <td>Enem</td>\n",
       "      <td>2022</td>\n",
       "      <td>Uma pessoa precisa contratar um operário para ...</td>\n",
       "      <td>3</td>\n",
       "      <td>AritméticaeProblemas SistemasdeNumeraçãoeOpera...</td>\n",
       "    </tr>\n",
       "    <tr>\n",
       "      <th>2</th>\n",
       "      <td>3</td>\n",
       "      <td>Matemática</td>\n",
       "      <td>Enem</td>\n",
       "      <td>2022</td>\n",
       "      <td>O governo de um estado pretende realizar uma o...</td>\n",
       "      <td>3</td>\n",
       "      <td>AnálisedeTabelaseGráficos</td>\n",
       "    </tr>\n",
       "    <tr>\n",
       "      <th>3</th>\n",
       "      <td>4</td>\n",
       "      <td>Matemática</td>\n",
       "      <td>Enem</td>\n",
       "      <td>2022</td>\n",
       "      <td>Ao escutar à notícia de que um filme recém-lan...</td>\n",
       "      <td>3</td>\n",
       "      <td>AritméticaeProblemas SistemasdeNumeraçãoeOpera...</td>\n",
       "    </tr>\n",
       "    <tr>\n",
       "      <th>4</th>\n",
       "      <td>5</td>\n",
       "      <td>Matemática</td>\n",
       "      <td>Enem</td>\n",
       "      <td>2022</td>\n",
       "      <td>Em uma loja, o preço promocional de uma gelade...</td>\n",
       "      <td>3</td>\n",
       "      <td>MatemáticaFinanceira</td>\n",
       "    </tr>\n",
       "  </tbody>\n",
       "</table>\n",
       "</div>"
      ],
      "text/plain": [
       "   id     materia prova   ano  \\\n",
       "0   1  Matemática  Enem  2022   \n",
       "1   2  Matemática  Enem  2022   \n",
       "2   3  Matemática  Enem  2022   \n",
       "3   4  Matemática  Enem  2022   \n",
       "4   5  Matemática  Enem  2022   \n",
       "\n",
       "                                           enunciado  visibilidade_id  \\\n",
       "0  Uma cozinheira produz docinhos especiais por e...                3   \n",
       "1  Uma pessoa precisa contratar um operário para ...                3   \n",
       "2  O governo de um estado pretende realizar uma o...                3   \n",
       "3  Ao escutar à notícia de que um filme recém-lan...                3   \n",
       "4  Em uma loja, o preço promocional de uma gelade...                3   \n",
       "\n",
       "                                            assuntos  \n",
       "0                   AritméticaeProblemas RegradeTrês  \n",
       "1  AritméticaeProblemas SistemasdeNumeraçãoeOpera...  \n",
       "2                          AnálisedeTabelaseGráficos  \n",
       "3  AritméticaeProblemas SistemasdeNumeraçãoeOpera...  \n",
       "4                               MatemáticaFinanceira  "
      ]
     },
     "execution_count": 128,
     "metadata": {},
     "output_type": "execute_result"
    }
   ],
   "source": [
    "questoes_cleaned.enunciado.str.strip()\n",
    "questoes_cleaned.head()"
   ]
  },
  {
   "cell_type": "code",
   "execution_count": 129,
   "id": "b24aff55",
   "metadata": {
    "scrolled": true
   },
   "outputs": [
    {
     "data": {
      "text/html": [
       "<div>\n",
       "<style scoped>\n",
       "    .dataframe tbody tr th:only-of-type {\n",
       "        vertical-align: middle;\n",
       "    }\n",
       "\n",
       "    .dataframe tbody tr th {\n",
       "        vertical-align: top;\n",
       "    }\n",
       "\n",
       "    .dataframe thead th {\n",
       "        text-align: right;\n",
       "    }\n",
       "</style>\n",
       "<table border=\"1\" class=\"dataframe\">\n",
       "  <thead>\n",
       "    <tr style=\"text-align: right;\">\n",
       "      <th></th>\n",
       "      <th>id</th>\n",
       "      <th>materia</th>\n",
       "      <th>prova</th>\n",
       "      <th>ano</th>\n",
       "      <th>enunciado</th>\n",
       "      <th>visibilidade_id</th>\n",
       "      <th>assuntos</th>\n",
       "    </tr>\n",
       "  </thead>\n",
       "  <tbody>\n",
       "    <tr>\n",
       "      <th>0</th>\n",
       "      <td>1</td>\n",
       "      <td>Matemática</td>\n",
       "      <td>Enem</td>\n",
       "      <td>2022</td>\n",
       "      <td>Uma cozinheira produz docinhos especiais por e...</td>\n",
       "      <td>3</td>\n",
       "      <td>AritméticaeProblemas RegradeTrês</td>\n",
       "    </tr>\n",
       "    <tr>\n",
       "      <th>1</th>\n",
       "      <td>2</td>\n",
       "      <td>Matemática</td>\n",
       "      <td>Enem</td>\n",
       "      <td>2022</td>\n",
       "      <td>Uma pessoa precisa contratar um operário para ...</td>\n",
       "      <td>3</td>\n",
       "      <td>AritméticaeProblemas SistemasdeNumeraçãoeOpera...</td>\n",
       "    </tr>\n",
       "    <tr>\n",
       "      <th>2</th>\n",
       "      <td>3</td>\n",
       "      <td>Matemática</td>\n",
       "      <td>Enem</td>\n",
       "      <td>2022</td>\n",
       "      <td>O governo de um estado pretende realizar uma o...</td>\n",
       "      <td>3</td>\n",
       "      <td>AnálisedeTabelaseGráficos</td>\n",
       "    </tr>\n",
       "    <tr>\n",
       "      <th>3</th>\n",
       "      <td>4</td>\n",
       "      <td>Matemática</td>\n",
       "      <td>Enem</td>\n",
       "      <td>2022</td>\n",
       "      <td>Ao escutar à notícia de que um filme recém-lan...</td>\n",
       "      <td>3</td>\n",
       "      <td>AritméticaeProblemas SistemasdeNumeraçãoeOpera...</td>\n",
       "    </tr>\n",
       "    <tr>\n",
       "      <th>4</th>\n",
       "      <td>5</td>\n",
       "      <td>Matemática</td>\n",
       "      <td>Enem</td>\n",
       "      <td>2022</td>\n",
       "      <td>Em uma loja  o preço promocional de uma gelade...</td>\n",
       "      <td>3</td>\n",
       "      <td>MatemáticaFinanceira</td>\n",
       "    </tr>\n",
       "  </tbody>\n",
       "</table>\n",
       "</div>"
      ],
      "text/plain": [
       "   id     materia prova   ano  \\\n",
       "0   1  Matemática  Enem  2022   \n",
       "1   2  Matemática  Enem  2022   \n",
       "2   3  Matemática  Enem  2022   \n",
       "3   4  Matemática  Enem  2022   \n",
       "4   5  Matemática  Enem  2022   \n",
       "\n",
       "                                           enunciado  visibilidade_id  \\\n",
       "0  Uma cozinheira produz docinhos especiais por e...                3   \n",
       "1  Uma pessoa precisa contratar um operário para ...                3   \n",
       "2  O governo de um estado pretende realizar uma o...                3   \n",
       "3  Ao escutar à notícia de que um filme recém-lan...                3   \n",
       "4  Em uma loja  o preço promocional de uma gelade...                3   \n",
       "\n",
       "                                            assuntos  \n",
       "0                   AritméticaeProblemas RegradeTrês  \n",
       "1  AritméticaeProblemas SistemasdeNumeraçãoeOpera...  \n",
       "2                          AnálisedeTabelaseGráficos  \n",
       "3  AritméticaeProblemas SistemasdeNumeraçãoeOpera...  \n",
       "4                               MatemáticaFinanceira  "
      ]
     },
     "execution_count": 129,
     "metadata": {},
     "output_type": "execute_result"
    }
   ],
   "source": [
    "# Pontuação e acentuação\n",
    "\n",
    "questoes_cleaned['enunciado'] = questoes_cleaned['enunciado'].replace('[,.:;!?]+', ' ', regex=True) \n",
    "questoes_cleaned.head()"
   ]
  },
  {
   "cell_type": "code",
   "execution_count": 130,
   "id": "4861d44e",
   "metadata": {
    "scrolled": true
   },
   "outputs": [
    {
     "data": {
      "text/html": [
       "<div>\n",
       "<style scoped>\n",
       "    .dataframe tbody tr th:only-of-type {\n",
       "        vertical-align: middle;\n",
       "    }\n",
       "\n",
       "    .dataframe tbody tr th {\n",
       "        vertical-align: top;\n",
       "    }\n",
       "\n",
       "    .dataframe thead th {\n",
       "        text-align: right;\n",
       "    }\n",
       "</style>\n",
       "<table border=\"1\" class=\"dataframe\">\n",
       "  <thead>\n",
       "    <tr style=\"text-align: right;\">\n",
       "      <th></th>\n",
       "      <th>id</th>\n",
       "      <th>materia</th>\n",
       "      <th>prova</th>\n",
       "      <th>ano</th>\n",
       "      <th>enunciado</th>\n",
       "      <th>visibilidade_id</th>\n",
       "      <th>assuntos</th>\n",
       "    </tr>\n",
       "  </thead>\n",
       "  <tbody>\n",
       "    <tr>\n",
       "      <th>0</th>\n",
       "      <td>1</td>\n",
       "      <td>Matemática</td>\n",
       "      <td>Enem</td>\n",
       "      <td>2022</td>\n",
       "      <td>Uma cozinheira produz docinhos especiais por e...</td>\n",
       "      <td>3</td>\n",
       "      <td>AritméticaeProblemas RegradeTrês</td>\n",
       "    </tr>\n",
       "    <tr>\n",
       "      <th>1</th>\n",
       "      <td>2</td>\n",
       "      <td>Matemática</td>\n",
       "      <td>Enem</td>\n",
       "      <td>2022</td>\n",
       "      <td>Uma pessoa precisa contratar um operário para ...</td>\n",
       "      <td>3</td>\n",
       "      <td>AritméticaeProblemas SistemasdeNumeraçãoeOpera...</td>\n",
       "    </tr>\n",
       "    <tr>\n",
       "      <th>2</th>\n",
       "      <td>3</td>\n",
       "      <td>Matemática</td>\n",
       "      <td>Enem</td>\n",
       "      <td>2022</td>\n",
       "      <td>O governo de um estado pretende realizar uma o...</td>\n",
       "      <td>3</td>\n",
       "      <td>AnálisedeTabelaseGráficos</td>\n",
       "    </tr>\n",
       "    <tr>\n",
       "      <th>3</th>\n",
       "      <td>4</td>\n",
       "      <td>Matemática</td>\n",
       "      <td>Enem</td>\n",
       "      <td>2022</td>\n",
       "      <td>Ao escutar à notícia de que um filme recém lan...</td>\n",
       "      <td>3</td>\n",
       "      <td>AritméticaeProblemas SistemasdeNumeraçãoeOpera...</td>\n",
       "    </tr>\n",
       "    <tr>\n",
       "      <th>4</th>\n",
       "      <td>5</td>\n",
       "      <td>Matemática</td>\n",
       "      <td>Enem</td>\n",
       "      <td>2022</td>\n",
       "      <td>Em uma loja  o preço promocional de uma gelade...</td>\n",
       "      <td>3</td>\n",
       "      <td>MatemáticaFinanceira</td>\n",
       "    </tr>\n",
       "  </tbody>\n",
       "</table>\n",
       "</div>"
      ],
      "text/plain": [
       "   id     materia prova   ano  \\\n",
       "0   1  Matemática  Enem  2022   \n",
       "1   2  Matemática  Enem  2022   \n",
       "2   3  Matemática  Enem  2022   \n",
       "3   4  Matemática  Enem  2022   \n",
       "4   5  Matemática  Enem  2022   \n",
       "\n",
       "                                           enunciado  visibilidade_id  \\\n",
       "0  Uma cozinheira produz docinhos especiais por e...                3   \n",
       "1  Uma pessoa precisa contratar um operário para ...                3   \n",
       "2  O governo de um estado pretende realizar uma o...                3   \n",
       "3  Ao escutar à notícia de que um filme recém lan...                3   \n",
       "4  Em uma loja  o preço promocional de uma gelade...                3   \n",
       "\n",
       "                                            assuntos  \n",
       "0                   AritméticaeProblemas RegradeTrês  \n",
       "1  AritméticaeProblemas SistemasdeNumeraçãoeOpera...  \n",
       "2                          AnálisedeTabelaseGráficos  \n",
       "3  AritméticaeProblemas SistemasdeNumeraçãoeOpera...  \n",
       "4                               MatemáticaFinanceira  "
      ]
     },
     "execution_count": 130,
     "metadata": {},
     "output_type": "execute_result"
    }
   ],
   "source": [
    "# Removendo caracteres especiais\n",
    "\n",
    "questoes_cleaned['enunciado'] = questoes_cleaned['enunciado'].replace('[/<>()|\\+\\-\\$%&#@\\'\\\"]+', ' ', regex=True)\n",
    "questoes_cleaned.head()"
   ]
  },
  {
   "cell_type": "code",
   "execution_count": 131,
   "id": "1e160676",
   "metadata": {},
   "outputs": [
    {
     "data": {
      "text/html": [
       "<div>\n",
       "<style scoped>\n",
       "    .dataframe tbody tr th:only-of-type {\n",
       "        vertical-align: middle;\n",
       "    }\n",
       "\n",
       "    .dataframe tbody tr th {\n",
       "        vertical-align: top;\n",
       "    }\n",
       "\n",
       "    .dataframe thead th {\n",
       "        text-align: right;\n",
       "    }\n",
       "</style>\n",
       "<table border=\"1\" class=\"dataframe\">\n",
       "  <thead>\n",
       "    <tr style=\"text-align: right;\">\n",
       "      <th></th>\n",
       "      <th>id</th>\n",
       "      <th>materia</th>\n",
       "      <th>prova</th>\n",
       "      <th>ano</th>\n",
       "      <th>enunciado</th>\n",
       "      <th>visibilidade_id</th>\n",
       "      <th>assuntos</th>\n",
       "    </tr>\n",
       "  </thead>\n",
       "  <tbody>\n",
       "    <tr>\n",
       "      <th>0</th>\n",
       "      <td>1</td>\n",
       "      <td>Matemática</td>\n",
       "      <td>Enem</td>\n",
       "      <td>2022</td>\n",
       "      <td>Uma cozinheira produz docinhos especiais por e...</td>\n",
       "      <td>3</td>\n",
       "      <td>AritméticaeProblemas RegradeTrês</td>\n",
       "    </tr>\n",
       "    <tr>\n",
       "      <th>1</th>\n",
       "      <td>2</td>\n",
       "      <td>Matemática</td>\n",
       "      <td>Enem</td>\n",
       "      <td>2022</td>\n",
       "      <td>Uma pessoa precisa contratar um operário para ...</td>\n",
       "      <td>3</td>\n",
       "      <td>AritméticaeProblemas SistemasdeNumeraçãoeOpera...</td>\n",
       "    </tr>\n",
       "    <tr>\n",
       "      <th>2</th>\n",
       "      <td>3</td>\n",
       "      <td>Matemática</td>\n",
       "      <td>Enem</td>\n",
       "      <td>2022</td>\n",
       "      <td>O governo de um estado pretende realizar uma o...</td>\n",
       "      <td>3</td>\n",
       "      <td>AnálisedeTabelaseGráficos</td>\n",
       "    </tr>\n",
       "    <tr>\n",
       "      <th>3</th>\n",
       "      <td>4</td>\n",
       "      <td>Matemática</td>\n",
       "      <td>Enem</td>\n",
       "      <td>2022</td>\n",
       "      <td>Ao escutar à notícia de que um filme recém lan...</td>\n",
       "      <td>3</td>\n",
       "      <td>AritméticaeProblemas SistemasdeNumeraçãoeOpera...</td>\n",
       "    </tr>\n",
       "    <tr>\n",
       "      <th>4</th>\n",
       "      <td>5</td>\n",
       "      <td>Matemática</td>\n",
       "      <td>Enem</td>\n",
       "      <td>2022</td>\n",
       "      <td>Em uma loja  o preço promocional de uma gelade...</td>\n",
       "      <td>3</td>\n",
       "      <td>MatemáticaFinanceira</td>\n",
       "    </tr>\n",
       "  </tbody>\n",
       "</table>\n",
       "</div>"
      ],
      "text/plain": [
       "   id     materia prova   ano  \\\n",
       "0   1  Matemática  Enem  2022   \n",
       "1   2  Matemática  Enem  2022   \n",
       "2   3  Matemática  Enem  2022   \n",
       "3   4  Matemática  Enem  2022   \n",
       "4   5  Matemática  Enem  2022   \n",
       "\n",
       "                                           enunciado  visibilidade_id  \\\n",
       "0  Uma cozinheira produz docinhos especiais por e...                3   \n",
       "1  Uma pessoa precisa contratar um operário para ...                3   \n",
       "2  O governo de um estado pretende realizar uma o...                3   \n",
       "3  Ao escutar à notícia de que um filme recém lan...                3   \n",
       "4  Em uma loja  o preço promocional de uma gelade...                3   \n",
       "\n",
       "                                            assuntos  \n",
       "0                   AritméticaeProblemas RegradeTrês  \n",
       "1  AritméticaeProblemas SistemasdeNumeraçãoeOpera...  \n",
       "2                          AnálisedeTabelaseGráficos  \n",
       "3  AritméticaeProblemas SistemasdeNumeraçãoeOpera...  \n",
       "4                               MatemáticaFinanceira  "
      ]
     },
     "execution_count": 131,
     "metadata": {},
     "output_type": "execute_result"
    }
   ],
   "source": [
    "# Removendo números\n",
    "\n",
    "questoes_cleaned['enunciado'] = questoes_cleaned['enunciado'].replace('[0-9]+', ' ', regex=True)\n",
    "questoes_cleaned.head()"
   ]
  },
  {
   "cell_type": "code",
   "execution_count": 132,
   "id": "98f36092",
   "metadata": {},
   "outputs": [
    {
     "name": "stderr",
     "output_type": "stream",
     "text": [
      "[nltk_data] Downloading package rslp to\n",
      "[nltk_data]     C:\\Users\\Diego\\AppData\\Roaming\\nltk_data...\n",
      "[nltk_data]   Package rslp is already up-to-date!\n",
      "[nltk_data] Downloading package stopwords to\n",
      "[nltk_data]     C:\\Users\\Diego\\AppData\\Roaming\\nltk_data...\n",
      "[nltk_data]   Package stopwords is already up-to-date!\n"
     ]
    },
    {
     "data": {
      "text/plain": [
       "True"
      ]
     },
     "execution_count": 132,
     "metadata": {},
     "output_type": "execute_result"
    }
   ],
   "source": [
    "import nltk\n",
    "nltk.download('rslp')\n",
    "nltk.download('stopwords')"
   ]
  },
  {
   "cell_type": "code",
   "execution_count": 133,
   "id": "d7789585",
   "metadata": {},
   "outputs": [],
   "source": [
    "stemmer = nltk.stem.RSLPStemmer()"
   ]
  },
  {
   "cell_type": "code",
   "execution_count": 134,
   "id": "eaf77e5e",
   "metadata": {},
   "outputs": [],
   "source": [
    "def stem(text):\n",
    "    y = []\n",
    "    \n",
    "    for i in text.split():\n",
    "        y.append(stemmer.stem(i))\n",
    "        \n",
    "    return \" \".join(y)"
   ]
  },
  {
   "cell_type": "code",
   "execution_count": 135,
   "id": "d93a4376",
   "metadata": {
    "scrolled": false
   },
   "outputs": [
    {
     "data": {
      "text/plain": [
       "0      uma cozinh produz doc espec por encomend us um...\n",
       "1      uma pesso precis contrat um oper par faz um se...\n",
       "2      o govern de um est pretend realiz uma obr de i...\n",
       "3      ao escut à notíc de que um film recém lanç arr...\n",
       "4      em uma loj o preç promoc de uma gelad é de r\\ ...\n",
       "                             ...                        \n",
       "905    excerpt ‘i it your opinion winston that the pa...\n",
       "906    text i a fre world clas education for anyon an...\n",
       "907    don t writ in english they said english is not...\n",
       "908    glasbergen r dispon em www glasbergen com aces...\n",
       "909    lav mae creating show on wheel for the homeles...\n",
       "Name: enunciado, Length: 910, dtype: object"
      ]
     },
     "execution_count": 135,
     "metadata": {},
     "output_type": "execute_result"
    }
   ],
   "source": [
    "# Nos interessa realizar stemming apenas no enunciado, pois as outras colunas \n",
    "# são metadados que sabemos que são relevantes e não precisams de stemming\n",
    "\n",
    "questoes_cleaned['enunciado'] = questoes_cleaned['enunciado'].apply(stem);\n",
    "questoes_cleaned['enunciado']"
   ]
  },
  {
   "cell_type": "code",
   "execution_count": 136,
   "id": "bd5360b6",
   "metadata": {},
   "outputs": [
    {
     "data": {
      "text/plain": [
       "0    Matemática Enem 2022 uma cozinh produz doc esp...\n",
       "1    Matemática Enem 2022 uma pesso precis contrat ...\n",
       "2    Matemática Enem 2022 o govern de um est preten...\n",
       "3    Matemática Enem 2022 ao escut à notíc de que u...\n",
       "4    Matemática Enem 2022 em uma loj o preç promoc ...\n",
       "dtype: object"
      ]
     },
     "execution_count": 136,
     "metadata": {},
     "output_type": "execute_result"
    }
   ],
   "source": [
    "# Um novo documento que é a união entre as colunas interessantes\n",
    "# para o nosso sistema.\n",
    "\n",
    "tags = questoes_cleaned['materia'] + \" \" + questoes_cleaned['prova'] + \" \" + questoes_cleaned['ano'].astype(str) + \" \"  + questoes_cleaned['enunciado'] + \" \" + questoes_cleaned['assuntos']\n",
    "tags.head()"
   ]
  },
  {
   "cell_type": "code",
   "execution_count": 137,
   "id": "18f41d28",
   "metadata": {
    "scrolled": true
   },
   "outputs": [
    {
     "data": {
      "text/plain": [
       "['a',\n",
       " 'à',\n",
       " 'ao',\n",
       " 'aos',\n",
       " 'aquela',\n",
       " 'aquelas',\n",
       " 'aquele',\n",
       " 'aqueles',\n",
       " 'aquilo',\n",
       " 'as',\n",
       " 'às',\n",
       " 'até',\n",
       " 'com',\n",
       " 'como',\n",
       " 'da',\n",
       " 'das',\n",
       " 'de',\n",
       " 'dela',\n",
       " 'delas',\n",
       " 'dele',\n",
       " 'deles',\n",
       " 'depois',\n",
       " 'do',\n",
       " 'dos',\n",
       " 'e',\n",
       " 'é',\n",
       " 'ela',\n",
       " 'elas',\n",
       " 'ele',\n",
       " 'eles',\n",
       " 'em',\n",
       " 'entre',\n",
       " 'era',\n",
       " 'eram',\n",
       " 'éramos',\n",
       " 'essa',\n",
       " 'essas',\n",
       " 'esse',\n",
       " 'esses',\n",
       " 'esta',\n",
       " 'está',\n",
       " 'estamos',\n",
       " 'estão',\n",
       " 'estar',\n",
       " 'estas',\n",
       " 'estava',\n",
       " 'estavam',\n",
       " 'estávamos',\n",
       " 'este',\n",
       " 'esteja']"
      ]
     },
     "execution_count": 137,
     "metadata": {},
     "output_type": "execute_result"
    }
   ],
   "source": [
    "# Stop word para o idioma portugues\n",
    "\n",
    "nltk.corpus.stopwords.words('portuguese')[:50]"
   ]
  },
  {
   "cell_type": "code",
   "execution_count": 138,
   "id": "f8e6c54d",
   "metadata": {
    "scrolled": true
   },
   "outputs": [
    {
     "name": "stdout",
     "output_type": "stream",
     "text": [
      "[[0 0 0 ... 0 0 0]\n",
      " [0 0 0 ... 0 0 0]\n",
      " [0 0 0 ... 0 0 0]\n",
      " ...\n",
      " [0 0 0 ... 0 0 0]\n",
      " [0 0 0 ... 0 0 0]\n",
      " [0 0 0 ... 0 0 0]]\n"
     ]
    },
    {
     "name": "stderr",
     "output_type": "stream",
     "text": [
      "C:\\Users\\Diego\\AppData\\Local\\Programs\\Python\\Python311\\Lib\\site-packages\\sklearn\\feature_extraction\\text.py:408: UserWarning: Your stop_words may be inconsistent with your preprocessing. Tokenizing the stop words generated tokens ['ate', 'eramos', 'estao', 'estavamos', 'estiveramos', 'estivessemos', 'foramos', 'fossemos', 'ha', 'hao', 'houveramos', 'houverao', 'houveriamos', 'houvessemos', 'ja', 'nao', 'sao', 'sera', 'serao', 'seriamos', 'so', 'tambem', 'tera', 'terao', 'teriamos', 'tinhamos', 'tiveramos', 'tivessemos', 'voce', 'voces'] not in stop_words.\n",
      "  warnings.warn(\n"
     ]
    }
   ],
   "source": [
    "vectorizer = CountVectorizer(strip_accents='ascii', lowercase=True, stop_words=nltk.corpus.stopwords.words('portuguese'), max_features=5000)\n",
    "\n",
    "tags_count = vectorizer.fit_transform(tags)\n",
    "print(tags_count.toarray())"
   ]
  },
  {
   "cell_type": "code",
   "execution_count": 139,
   "id": "e74b73d1",
   "metadata": {},
   "outputs": [
    {
     "data": {
      "text/plain": [
       "(910, 5000)"
      ]
     },
     "execution_count": 139,
     "metadata": {},
     "output_type": "execute_result"
    }
   ],
   "source": [
    "tags_count.shape"
   ]
  },
  {
   "cell_type": "code",
   "execution_count": 140,
   "id": "5c1397e7",
   "metadata": {},
   "outputs": [
    {
     "name": "stdout",
     "output_type": "stream",
     "text": [
      "[[1.         0.11234482 0.08271702 ... 0.01461763 0.02127178 0.00521357]\n",
      " [0.11234482 1.         0.12866994 ... 0.04105539 0.02389775 0.00585717]\n",
      " [0.08271702 0.12866994 1.         ... 0.01209127 0.07038153 0.00431251]\n",
      " ...\n",
      " [0.01461763 0.04105539 0.01209127 ... 1.         0.10105651 0.14860957]\n",
      " [0.02127178 0.02389775 0.07038153 ... 0.10105651 1.         0.11533797]\n",
      " [0.00521357 0.00585717 0.00431251 ... 0.14860957 0.11533797 1.        ]]\n"
     ]
    }
   ],
   "source": [
    "similarity = cosine_similarity(tags_count)\n",
    "print(similarity)"
   ]
  },
  {
   "cell_type": "code",
   "execution_count": 141,
   "id": "4b4fde2d",
   "metadata": {},
   "outputs": [
    {
     "data": {
      "text/html": [
       "<div>\n",
       "<style scoped>\n",
       "    .dataframe tbody tr th:only-of-type {\n",
       "        vertical-align: middle;\n",
       "    }\n",
       "\n",
       "    .dataframe tbody tr th {\n",
       "        vertical-align: top;\n",
       "    }\n",
       "\n",
       "    .dataframe thead th {\n",
       "        text-align: right;\n",
       "    }\n",
       "</style>\n",
       "<table border=\"1\" class=\"dataframe\">\n",
       "  <thead>\n",
       "    <tr style=\"text-align: right;\">\n",
       "      <th></th>\n",
       "      <th>id</th>\n",
       "      <th>materia</th>\n",
       "      <th>prova</th>\n",
       "      <th>ano</th>\n",
       "      <th>enunciado</th>\n",
       "      <th>visibilidade_id</th>\n",
       "      <th>assuntos</th>\n",
       "    </tr>\n",
       "  </thead>\n",
       "  <tbody>\n",
       "    <tr>\n",
       "      <th>29</th>\n",
       "      <td>30</td>\n",
       "      <td>Matemática</td>\n",
       "      <td>Enem</td>\n",
       "      <td>2022</td>\n",
       "      <td>&lt;p&gt;Um casal planeja construir em sua chácara u...</td>\n",
       "      <td>3</td>\n",
       "      <td>GeometriaEspacial Poliedros</td>\n",
       "    </tr>\n",
       "  </tbody>\n",
       "</table>\n",
       "</div>"
      ],
      "text/plain": [
       "    id     materia prova   ano  \\\n",
       "29  30  Matemática  Enem  2022   \n",
       "\n",
       "                                            enunciado  visibilidade_id  \\\n",
       "29  <p>Um casal planeja construir em sua chácara u...                3   \n",
       "\n",
       "                       assuntos  \n",
       "29  GeometriaEspacial Poliedros  "
      ]
     },
     "execution_count": 141,
     "metadata": {},
     "output_type": "execute_result"
    }
   ],
   "source": [
    "questoes_with_assuntos[questoes_with_assuntos['id'] == 30]"
   ]
  },
  {
   "cell_type": "code",
   "execution_count": 142,
   "id": "c653d3fb",
   "metadata": {},
   "outputs": [
    {
     "data": {
      "text/plain": [
       "'<p>Um casal planeja construir em sua chácara uma piscina com o formato de um paralelepípedo reto retângulo com capacidade para 90 000 L de água. O casal contratou uma empresa de construções que apresentou cinco projetos com diferentes combinações nas dimensões internas de profundidade, largura e comprimento. A piscina a ser construída terá revestimento interno em suas paredes e fundo com uma mesma cerâmica, e o casal irá escolher o projeto que exija a menor área de revestimento.</p>\\n<p>As dimensões internas de profundidade, largura e comprimento, respectivamente, para cada um dos projetos, são:</p>\\n<ul>\\n<li>Projeto I: 1,8m, 2,0 m e 25,0 m:</li>\\n<li>Projeto II: 2,0 m. 5,0 m e 9,0 m:\\xa0</li>\\n<li>Projeto III: 1,0 m, 6,0 m e 15,0 m;</li>\\n<li>Projeto IV: 1,5 m, 15,0 m e 4,0 m;</li>\\n<li>Projeto V: 2,5 m, 3,0 m e 12,0 m.</li>\\n</ul>\\n<p>O projeto que o casal deverá escolher será</p>'"
      ]
     },
     "execution_count": 142,
     "metadata": {},
     "output_type": "execute_result"
    }
   ],
   "source": [
    "questoes_with_assuntos.loc[questoes_with_assuntos['id'] == 30,'enunciado'].item()"
   ]
  },
  {
   "cell_type": "code",
   "execution_count": 143,
   "id": "92dfb59e",
   "metadata": {},
   "outputs": [],
   "source": [
    "def recomendar(questao_id):\n",
    "    questao_index = questoes_with_assuntos[questoes_with_assuntos['id'] == questao_id].index[0]\n",
    "    sugestoes = sorted(enumerate(similarity[questao_index]), reverse=True, key=lambda x:x[1])[1:6]\n",
    "    result = []\n",
    "    \n",
    "    for index,_ in sugestoes:\n",
    "        sugestao_questao = questoes_with_assuntos.iloc[index].id\n",
    "        result.append(sugestao_questao)\n",
    "    \n",
    "    return result"
   ]
  },
  {
   "cell_type": "code",
   "execution_count": 144,
   "id": "36ac9822",
   "metadata": {
    "scrolled": true
   },
   "outputs": [],
   "source": [
    "sugestoes = recomendar(30)"
   ]
  },
  {
   "cell_type": "code",
   "execution_count": 145,
   "id": "208db680",
   "metadata": {},
   "outputs": [
    {
     "data": {
      "text/plain": [
       "'<p style=\"text-align: justify;\">Para construir uma piscina, cuja área total da superfície interna é igual a 40 m<sup>2</sup>, uma construtora apresentou o seguinte orçamento:</p>\\n<ul>\\n<li>R\\\\$ 10 000,00 pela elaboração do projeto;</li>\\n<li>R\\\\$ 40 000,00 pelos custos fixos;</li>\\n<li>R\\\\$ 2 500,00 por metro quadrado para construção da área interna da piscina.</li>\\n</ul>\\n<p style=\"text-align: justify;\">Após a apresentação do orçamento, essa empresa decidiu reduzir o valor de elaboração do projeto em 50%, mas recalculou o valor do metro quadrado para a construção da área interna da piscina, concluindo haver a necessidade de aumentá-lo em 25%. Além disso, a construtora pretende dar um desconto nos custos fixos, de maneira que o novo valor do orçamento seja reduzido em 10% em relação ao total inicial.</p>\\n<p style=\"text-align: justify;\">O percentual de desconto que a construtora deverá conceder nos custos fixos é de</p>'"
      ]
     },
     "execution_count": 145,
     "metadata": {},
     "output_type": "execute_result"
    }
   ],
   "source": [
    "questoes_with_assuntos.loc[questoes_with_assuntos['id'] == sugestoes[0], 'enunciado'].item()"
   ]
  },
  {
   "cell_type": "markdown",
   "id": "5d6a2252",
   "metadata": {},
   "source": [
    "Perceba que o resultado já ficou mais interessante, as questões são muito similares!"
   ]
  },
  {
   "cell_type": "markdown",
   "id": "df38ebf8",
   "metadata": {},
   "source": [
    "## Conclusão"
   ]
  },
  {
   "cell_type": "markdown",
   "id": "0e6edbae",
   "metadata": {},
   "source": [
    "Vemos que o método abordando neste projeto retorna um resultado satisfatório mas acredito que pode ficar ainda mais interessante se for utilizado métodos mais sofisticado de processamento de texto e, principalmente, considerar o histórico do usuário como se ele acertou ou errou uma questão, assim podendo recomendar questões personalizadas baseado no histórico de usuário.\n",
    "\n",
    "Para concluir farei a mesma análise de dados que fiz no início"
   ]
  },
  {
   "cell_type": "code",
   "execution_count": 146,
   "id": "0371a9ad",
   "metadata": {},
   "outputs": [
    {
     "data": {
      "text/plain": [
       "<Axes: >"
      ]
     },
     "execution_count": 146,
     "metadata": {},
     "output_type": "execute_result"
    },
    {
     "data": {
      "image/png": "[encoded data removed]",
      "text/plain": [
       "<Figure size 640x480 with 1 Axes>"
      ]
     },
     "metadata": {},
     "output_type": "display_data"
    }
   ],
   "source": [
    "documentTermMatrix = pd.DataFrame(tags_count.toarray(), columns=vectorizer.get_feature_names_out())\n",
    "termDocumentMatrix = documentTermMatrix.T\n",
    "termDocumentMatrix['total_count'] = termDocumentMatrix.sum(axis=1)\n",
    "termDocumentMatrix = termDocumentMatrix.sort_values(by ='total_count',ascending=False)\n",
    "termDocumentMatrix[:20]['total_count'].plot.bar()"
   ]
  },
  {
   "cell_type": "markdown",
   "id": "fa30333d",
   "metadata": {},
   "source": [
    "## Referências\n",
    "\n",
    " - [https://towardsdatascience.com/basics-of-countvectorizer-e26677900f9c](https://towardsdatascience.com/basics-of-countvectorizer-e26677900f9c)\n",
    " - [https://okan.cloud/posts/2021-04-08-text-vectorization-using-python-term-document-matrix/](https://okan.cloud/posts/2021-04-08-text-vectorization-using-python-term-document-matrix/)\n",
    " - [https://medium.com/analytics-vidhya/tdm-term-document-matrix-and-dtm-document-term-matrix-8b07c58957e2](https://medium.com/analytics-vidhya/tdm-term-document-matrix-and-dtm-document-term-matrix-8b07c58957e2)\n",
    " - [https://en.wikipedia.org/wiki/Document-term_matrix](https://en.wikipedia.org/wiki/Document-term_matrix)\n",
    " - [https://brasilescola.uol.com.br/educacao/o-que-e-enem.htm](https://brasilescola.uol.com.br/educacao/o-que-e-enem.htm)\n",
    " - [https://www.alura.com.br/artigos/lemmatization-vs-stemming-quando-usar-cada-uma](https://www.alura.com.br/artigos/lemmatization-vs-stemming-quando-usar-cada-uma)\n",
    " - [https://www.alura.com.br/artigos/guia-nlp-conceitos-tecnicas](https://www.alura.com.br/artigos/guia-nlp-conceitos-tecnicas)\n",
    " - [https://www.nltk.org/howto/portuguese_en.html](https://www.nltk.org/howto/portuguese_en.html)\n",
    " - [https://dadosaocubo.com/nlp-com-scikit-learn/](https://dadosaocubo.com/nlp-com-scikit-learn/)\n",
    " - [https://download.inep.gov.br/educacao_basica/enem/downloads/2022/presskit/Press_kit_Enem_2022.pdf](https://download.inep.gov.br/educacao_basica/enem/downloads/2022/presskit/Press_kit_Enem_2022.pdf)"
   ]
  }
 ],
 "metadata": {
  "kernelspec": {
   "display_name": "Python 3 (ipykernel)",
   "language": "python",
   "name": "python3"
  },
  "language_info": {
   "codemirror_mode": {
    "name": "ipython",
    "version": 3
   },
   "file_extension": ".py",
   "mimetype": "text/x-python",
   "name": "python",
   "nbconvert_exporter": "python",
   "pygments_lexer": "ipython3",
   "version": "3.11.1"
  }
 },
 "nbformat": 4,
 "nbformat_minor": 5
}
