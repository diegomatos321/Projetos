{
 "cells": [
  {
   "cell_type": "code",
   "execution_count": 62,
   "id": "c416e8ee",
   "metadata": {},
   "outputs": [],
   "source": [
    "#import numpy as np \n",
    "#import pandas as pd\n",
    "#from nltk.corpus import stopwords\n",
    "#import re"
   ]
  },
  {
   "cell_type": "code",
   "execution_count": 63,
   "id": "b53e9cae",
   "metadata": {},
   "outputs": [],
   "source": [
    "import os\n",
    "\n",
    "def read_all_stories(story_path):\n",
    "    result = ''\n",
    "    \n",
    "    for _,_, filenames in os.walk(story_path):\n",
    "        for filename in filenames:\n",
    "            with open(story_path + filename) as file:\n",
    "                for line in file.readlines():\n",
    "                    line = line.strip()\n",
    "                    if line == '----------': break\n",
    "                    if line != '': \n",
    "                        result += line\n",
    "                        result += ' '\n",
    "                file.close()\n",
    "    \n",
    "    return result"
   ]
  },
  {
   "cell_type": "code",
   "execution_count": 64,
   "id": "5250daf1",
   "metadata": {},
   "outputs": [
    {
     "data": {
      "text/plain": [
       "\"THE ADVENTURE OF THE THREE GABLES Arthur Conan Doyle I don't think that any of my adventures with Mr. Sherlock Holmes opened quite so abruptly, or so \""
      ]
     },
     "execution_count": 64,
     "metadata": {},
     "output_type": "execute_result"
    }
   ],
   "source": [
    "stories = read_all_stories('./sherlock/')\n",
    "stories[:150]"
   ]
  },
  {
   "cell_type": "code",
   "execution_count": 65,
   "id": "f7a7e615",
   "metadata": {},
   "outputs": [
    {
     "name": "stdout",
     "output_type": "stream",
     "text": [
      "12629907\n"
     ]
    }
   ],
   "source": [
    "print(len(stories))"
   ]
  },
  {
   "cell_type": "code",
   "execution_count": 66,
   "id": "81af975a",
   "metadata": {},
   "outputs": [
    {
     "name": "stderr",
     "output_type": "stream",
     "text": [
      "[nltk_data] Downloading package punkt to\n",
      "[nltk_data]     C:\\Users\\Diego\\AppData\\Roaming\\nltk_data...\n",
      "[nltk_data]   Package punkt is already up-to-date!\n"
     ]
    }
   ],
   "source": [
    "import nltk\n",
    "from nltk.tokenize import word_tokenize\n",
    "nltk.download('punkt')\n",
    "import string\n",
    "\n",
    "def clean_up(corpus):\n",
    "    tmp_text = corpus.lower()\n",
    "    tmp_text = word_tokenize(tmp_text)\n",
    "    table = str.maketrans('', '', string.punctuation)\n",
    "    \n",
    "    result = []\n",
    "    for word in tmp_text:\n",
    "        new_word = word.translate(table)\n",
    "        if new_word.isalpha() == True:\n",
    "            result.append(new_word)\n",
    "    \n",
    "    return result"
   ]
  },
  {
   "cell_type": "code",
   "execution_count": 67,
   "id": "5bf239ff",
   "metadata": {},
   "outputs": [],
   "source": [
    "corpus = clean_up(stories)"
   ]
  },
  {
   "cell_type": "code",
   "execution_count": 68,
   "id": "dded4a99",
   "metadata": {
    "scrolled": true
   },
   "outputs": [
    {
     "name": "stdout",
     "output_type": "stream",
     "text": [
      "['the', 'adventure', 'of', 'the', 'three', 'gables', 'arthur', 'conan', 'doyle', 'i']\n"
     ]
    }
   ],
   "source": [
    "print(corpus[:10])"
   ]
  },
  {
   "cell_type": "code",
   "execution_count": 80,
   "id": "99a44e37",
   "metadata": {},
   "outputs": [],
   "source": [
    "def make_markov_model(cleaned_stories, n_grams = 2):\n",
    "    markov_model = {}\n",
    "    \n",
    "    for i in range(0, len(cleaned_stories) - n_grams - 1):\n",
    "        current_state = corpus[i:i + n_grams]\n",
    "        next_state = corpus[i + n_grams:i + n_grams + n_grams]\n",
    "        \n",
    "        current_state = ' '.join(current_state)\n",
    "        next_state = ' '.join(next_state)\n",
    "        \n",
    "        if current_state not in markov_model:\n",
    "            markov_model[current_state] = {}\n",
    "        else:\n",
    "            if next_state in markov_model[current_state]:\n",
    "                markov_model[current_state][next_state] += 1\n",
    "            else:\n",
    "                markov_model[current_state][next_state] = 1\n",
    "        \n",
    "    for current_state, list_next_states in markov_model.items():\n",
    "        total_next_states = sum(list_next_states.values())\n",
    "        \n",
    "        for next_state in list_next_states.keys():\n",
    "            markov_model[current_state][next_state] /= total_next_states\n",
    "            \n",
    "    return markov_model"
   ]
  },
  {
   "cell_type": "code",
   "execution_count": 81,
   "id": "3c676999",
   "metadata": {},
   "outputs": [],
   "source": [
    "markov_model = make_markov_model(corpus)"
   ]
  },
  {
   "cell_type": "code",
   "execution_count": 82,
   "id": "a7b73d3f",
   "metadata": {},
   "outputs": [
    {
     "name": "stdout",
     "output_type": "stream",
     "text": [
      "211747\n"
     ]
    }
   ],
   "source": [
    "print(len(markov_model.keys()))"
   ]
  },
  {
   "cell_type": "code",
   "execution_count": 83,
   "id": "ae8b7186",
   "metadata": {},
   "outputs": [
    {
     "name": "stdout",
     "output_type": "stream",
     "text": [
      "All possible transitions from 'the game' state: \n",
      "\n",
      "{'was up': 0.0847457627118644, 'is afoot': 0.03389830508474576, 's up': 0.03389830508474576, 'for the': 0.03389830508474576, 's own': 0.03389830508474576, 'was in': 0.025423728813559324, 'is hardly': 0.025423728813559324, 'would have': 0.03389830508474576, 'is up': 0.059322033898305086, 'is and': 0.03389830508474576, 'in their': 0.03389830508474576, 'was whist': 0.03389830508474576, 'in that': 0.03389830508474576, 'the lack': 0.03389830508474576, 'for all': 0.059322033898305086, 'may wander': 0.025423728813559324, 'now a': 0.025423728813559324, 'my own': 0.025423728813559324, 'at any': 0.025423728813559324, 'mr holmes': 0.025423728813559324, 'ay what': 0.025423728813559324, 'my friend': 0.025423728813559324, 'fairly by': 0.025423728813559324, 'is not': 0.025423728813559324, 'was not': 0.025423728813559324, 'was afoot': 0.03389830508474576, 'worth it': 0.025423728813559324, 'you are': 0.025423728813559324, 'i am': 0.025423728813559324, 'now count': 0.025423728813559324, 'your letter': 0.01694915254237288}\n"
     ]
    }
   ],
   "source": [
    "print(\"All possible transitions from 'the game' state: \\n\")\n",
    "print(markov_model['the game'])"
   ]
  },
  {
   "cell_type": "code",
   "execution_count": 84,
   "id": "f304b71a",
   "metadata": {},
   "outputs": [],
   "source": [
    "import random\n",
    "\n",
    "def generate_text(seed='the adventure', size=10):\n",
    "    story = seed + ' '\n",
    "    current_state = ' '.join(seed.split()[-2:])\n",
    "    \n",
    "    for _ in range(size):\n",
    "        transition_sequence = markov_matrix[current_state]\n",
    "        next_state = random.choices(\n",
    "            list(transition_sequence.keys()),\n",
    "            list(transition_sequence.values())\n",
    "        )\n",
    "        next_state = ' '.join(next_state)\n",
    "        story += next_state + ' '\n",
    "        current_state = next_state\n",
    "        \n",
    "    return story[:-1]"
   ]
  },
  {
   "cell_type": "code",
   "execution_count": 86,
   "id": "7ab93d13",
   "metadata": {},
   "outputs": [
    {
     "name": "stdout",
     "output_type": "stream",
     "text": [
      "Mr. Sherlock Holmes and myself may get into trouble i who knew him well in the first offer as i understood from something which had brought them to a hundred and fortyfive where are the adventures of the night i was contemplating the possibility of a secret here he is good and a look on his face which made it quite superfluous for me to explain i was determined that whatever happened i was awakened by some irresistible force from behind a small side door led into a small chip ointment box containing a couple of wooden chairs and a deal too thick for the world he cried with flashing eyes let me find out this is a firstclass carriage flying along en route for anyone who really knows him i hope we can not tell well then do so i returned alone to our client he admits it footmarks of both men sprang round but all else remained as we came out into the illlit station and there is nt worth a mud bath said he for a likely owner to the crime his first action was to me like a hungry beast i tell you bob i felt the prick of the knife\n"
     ]
    }
   ],
   "source": [
    "print(generate_text('Mr. Sherlock Holmes and myself', 100))"
   ]
  },
  {
   "cell_type": "code",
   "execution_count": 87,
   "id": "7591f1e2",
   "metadata": {},
   "outputs": [
    {
     "name": "stdout",
     "output_type": "stream",
     "text": [
      "my name is conan doyle sherlock holmes and of the line of sentinels everything depends on speed hurry on hurry on once on it i think i shall go out on each side of it this family fiend or devil madame i said that it is an ordinary plumber s smokerocket fitted with a cap at either side of the hall and her father s request that he will have a correspondent he is dead on the fender but he was fully dressed when he had held out the night before the burial as is likely enough that the sender of the packet a simple key no sir it is inconceivable that it was my custom to feed the beast we carried with us the dangling prussian as a member all the doings of mr moriarty who awaits my convenience for the final problem it is true an unwonted tidiness but the old logbooks of his vessel were preserved in it then there was a small square room in the morning to the law i could give the alarm like that what does her stepfather was in the letter and the large issues which proved to be puritanical you could hardly hope for all nature\n"
     ]
    }
   ],
   "source": [
    "print(generate_text('my name is conan doyle', 100))"
   ]
  },
  {
   "cell_type": "code",
   "execution_count": null,
   "id": "4419a7c8",
   "metadata": {},
   "outputs": [],
   "source": []
  }
 ],
 "metadata": {
  "kernelspec": {
   "display_name": "Python 3 (ipykernel)",
   "language": "python",
   "name": "python3"
  },
  "language_info": {
   "codemirror_mode": {
    "name": "ipython",
    "version": 3
   },
   "file_extension": ".py",
   "mimetype": "text/x-python",
   "name": "python",
   "nbconvert_exporter": "python",
   "pygments_lexer": "ipython3",
   "version": "3.11.1"
  }
 },
 "nbformat": 4,
 "nbformat_minor": 5
}
