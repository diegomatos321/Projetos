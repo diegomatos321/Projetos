{
 "cells": [
  {
   "cell_type": "code",
   "execution_count": null,
   "id": "0ac9f980",
   "metadata": {},
   "outputs": [],
   "source": [
    "#import numpy as np \n",
    "#import pandas as pd\n",
    "#from nltk.tokenize import word_tokenize\n",
    "#from nltk.corpus import stopwords\n",
    "#from collections import defaultdict\n",
    "#import re\n",
    "#import string\n",
    "#import random"
   ]
  },
  {
   "cell_type": "code",
   "execution_count": 4,
   "id": "8135c595",
   "metadata": {},
   "outputs": [],
   "source": [
    "import os\n",
    "\n",
    "def read_all_stories(story_path):\n",
    "    result = ''\n",
    "    \n",
    "    for _,_, filenames in os.walk(story_path):\n",
    "        print(filenames)\n",
    "        for filename in filenames:\n",
    "            with open(story_path + filename) as file:\n",
    "                for line in file.readlines():\n",
    "                    line = line.stripe()\n",
    "                    if line == '----------': break\n",
    "                    if line != '': \n",
    "                        result += line\n",
    "                        result += ' '\n",
    "                file.close()\n",
    "    \n",
    "    return result"
   ]
  },
  {
   "cell_type": "code",
   "execution_count": 5,
   "id": "1fb47b77",
   "metadata": {},
   "outputs": [
    {
     "name": "stdout",
     "output_type": "stream",
     "text": [
      "0\n"
     ]
    }
   ],
   "source": [
    "stories = read_all_stories('/sherlock')\n",
    "print(len(stories))"
   ]
  },
  {
   "cell_type": "code",
   "execution_count": null,
   "id": "1943abc5",
   "metadata": {},
   "outputs": [],
   "source": []
  }
 ],
 "metadata": {
  "kernelspec": {
   "display_name": "Python 3 (ipykernel)",
   "language": "python",
   "name": "python3"
  },
  "language_info": {
   "codemirror_mode": {
    "name": "ipython",
    "version": 3
   },
   "file_extension": ".py",
   "mimetype": "text/x-python",
   "name": "python",
   "nbconvert_exporter": "python",
   "pygments_lexer": "ipython3",
   "version": "3.11.1"
  }
 },
 "nbformat": 4,
 "nbformat_minor": 5
}
